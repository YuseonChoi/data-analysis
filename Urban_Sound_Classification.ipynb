{
 "cells": [
  {
   "cell_type": "code",
   "execution_count": 1,
   "id": "8d5c1e8a",
   "metadata": {},
   "outputs": [],
   "source": [
    "# This Python 3 environment comes with many helpful analytics libraries installed\n",
    "# It is defined by the kaggle/python Docker image: https://github.com/kaggle/docker-python\n",
    "# For example, here's several helpful packages to load\n",
    "\n",
    "import numpy as np # linear algebra\n",
    "import pandas as pd # data processing, CSV file I/O (e.g. pd.read_csv)\n",
    "\n",
    "# Input data files are available in the read-only \"../input/\" directory\n",
    "# For example, running this (by clicking run or pressing Shift+Enter) will list all files under the input directory\n",
    "\n",
    "import os\n",
    "#for dirname, _, filenames in os.walk('/kaggle/input'):\n",
    "#    for filename in filenames:\n",
    "#        print(os.path.join(dirname, filename))\n",
    "\n",
    "# You can write up to 20GB to the current directory (/kaggle/working/) that gets preserved as output when you create a version using \"Save & Run All\" \n",
    "# You can also write temporary files to /kaggle/temp/, but they won't be saved outside of the current session|"
   ]
  },
  {
   "cell_type": "code",
   "execution_count": 10,
   "id": "f5d25e41",
   "metadata": {},
   "outputs": [],
   "source": [
    "# Pandas\n",
    "import pandas as pd\n",
    "\n",
    "# Scikit learn\n",
    "from sklearn.model_selection import train_test_split\n",
    "from sklearn.metrics import classification_report, accuracy_score, confusion_matrix\n",
    "from sklearn.preprocessing import LabelEncoder\n",
    "from sklearn.utils import shuffle\n",
    "from sklearn.utils import class_weight\n",
    "\n",
    "# Keras\n",
    "from keras.models import Sequential\n",
    "from keras.layers import Dense, Dropout, Activation, Flatten\n",
    "from keras.layers import Convolution2D, Conv2D, MaxPooling2D, GlobalAveragePooling2D\n",
    "from tensorflow.keras.utils import to_categorical\n",
    "\n",
    "\n",
    "# Audio\n",
    "import librosa\n",
    "import librosa.display\n",
    "\n",
    "# Plot\n",
    "import matplotlib.pyplot as plt\n",
    "\n",
    "# Utility\n",
    "import glob\n",
    "import numpy as np\n",
    "from tqdm import tqdm\n",
    "import IPython.display as ipd\n",
    "from timeit import default_timer as timer"
   ]
  },
  {
   "cell_type": "code",
   "execution_count": 19,
   "id": "68c6fd63",
   "metadata": {},
   "outputs": [],
   "source": [
    "# upload the data\n",
    "classes = pd.read_csv('archive/UrbanSound8K.csv')"
   ]
  },
  {
   "cell_type": "code",
   "execution_count": 20,
   "id": "613eb0a3",
   "metadata": {},
   "outputs": [
    {
     "name": "stdout",
     "output_type": "stream",
     "text": [
      "{3: 'dog_bark', 2: 'children_playing', 1: 'car_horn', 0: 'air_conditioner', 9: 'street_music', 6: 'gun_shot', 8: 'siren', 5: 'engine_idling', 7: 'jackhammer', 4: 'drilling'}\n"
     ]
    }
   ],
   "source": [
    "classes_code = {v:k for k,v in zip(classes[\"class\"], classes[\"classID\"])}\n",
    "# A dictionnary doesn't accept double values\n",
    "print(classes_code)"
   ]
  },
  {
   "cell_type": "code",
   "execution_count": 52,
   "id": "46196acb",
   "metadata": {},
   "outputs": [],
   "source": [
    "# glob는 파일들의 리스트를 뽑을 때 사용하는데, 파일의 경로명을 이용해서 입맛대로 요리할 수 있답니다. \n",
    "# 위의 glob() 함수는 인자로 받은 패턴과 이름이 일치하는 모든 파일과 디렉터리의 리스트를 반환합니다. \n",
    "# Building our dataset\n",
    "dataset = list()\n",
    "for folder in glob.glob('archive/all/'):\n",
    "    list_sounds_path = glob.glob(folder+\"//**\")\n",
    "    for elm in list_sounds_path:\n",
    "        label = elm.split(\".wav\")[0][-5]\n",
    "        if label == '-':\n",
    "            label = elm.split(\".wav\")[0][-6]\n",
    "        dataset.append({\"file_name\" : elm,\n",
    "                       \"label\" : label})\n",
    "        pass\n",
    "    pass\n",
    "pass\n",
    "dataset = pd.DataFrame(dataset)\n",
    "dataset = shuffle(dataset, random_state = 42)"
   ]
  },
  {
   "cell_type": "code",
   "execution_count": 53,
   "id": "053a226b",
   "metadata": {},
   "outputs": [
    {
     "data": {
      "text/html": [
       "<div>\n",
       "<style scoped>\n",
       "    .dataframe tbody tr th:only-of-type {\n",
       "        vertical-align: middle;\n",
       "    }\n",
       "\n",
       "    .dataframe tbody tr th {\n",
       "        vertical-align: top;\n",
       "    }\n",
       "\n",
       "    .dataframe thead th {\n",
       "        text-align: right;\n",
       "    }\n",
       "</style>\n",
       "<table border=\"1\" class=\"dataframe\">\n",
       "  <thead>\n",
       "    <tr style=\"text-align: right;\">\n",
       "      <th></th>\n",
       "      <th>file_name</th>\n",
       "      <th>label</th>\n",
       "    </tr>\n",
       "  </thead>\n",
       "  <tbody>\n",
       "    <tr>\n",
       "      <th>6770</th>\n",
       "      <td>archive/all\\54898-8-0-2.wav</td>\n",
       "      <td>8</td>\n",
       "    </tr>\n",
       "    <tr>\n",
       "      <th>3534</th>\n",
       "      <td>archive/all\\172338-9-0-7.wav</td>\n",
       "      <td>9</td>\n",
       "    </tr>\n",
       "    <tr>\n",
       "      <th>8556</th>\n",
       "      <td>archive/all\\95562-4-3-0.wav</td>\n",
       "      <td>4</td>\n",
       "    </tr>\n",
       "    <tr>\n",
       "      <th>7870</th>\n",
       "      <td>archive/all\\75490-8-0-2.wav</td>\n",
       "      <td>8</td>\n",
       "    </tr>\n",
       "    <tr>\n",
       "      <th>1226</th>\n",
       "      <td>archive/all\\128891-3-0-4.wav</td>\n",
       "      <td>3</td>\n",
       "    </tr>\n",
       "  </tbody>\n",
       "</table>\n",
       "</div>"
      ],
      "text/plain": [
       "                         file_name label\n",
       "6770   archive/all\\54898-8-0-2.wav     8\n",
       "3534  archive/all\\172338-9-0-7.wav     9\n",
       "8556   archive/all\\95562-4-3-0.wav     4\n",
       "7870   archive/all\\75490-8-0-2.wav     8\n",
       "1226  archive/all\\128891-3-0-4.wav     3"
      ]
     },
     "execution_count": 53,
     "metadata": {},
     "output_type": "execute_result"
    }
   ],
   "source": [
    "dataset.head()"
   ]
  },
  {
   "cell_type": "code",
   "execution_count": 54,
   "id": "fd31a3b7",
   "metadata": {},
   "outputs": [],
   "source": [
    "train, test = train_test_split(dataset, test_size = 0.2, random_state = 42)"
   ]
  },
  {
   "cell_type": "code",
   "execution_count": 55,
   "id": "633e0a81",
   "metadata": {},
   "outputs": [
    {
     "name": "stdout",
     "output_type": "stream",
     "text": [
      "(6985, 2)\n",
      "(1747, 2)\n"
     ]
    }
   ],
   "source": [
    "print(train.shape)\n",
    "print(test.shape)"
   ]
  },
  {
   "cell_type": "code",
   "execution_count": 56,
   "id": "09ee7eaf",
   "metadata": {},
   "outputs": [],
   "source": [
    "def extract_feature(file_name):\n",
    "    X, sample_rate = librosa.load(file_name)\n",
    "    mfccs = librosa.feature.mfcc(y=X, sr=sample_rate, n_mfcc=40)\n",
    "    return mfccs"
   ]
  },
  {
   "cell_type": "code",
   "execution_count": 57,
   "id": "cd6489f4",
   "metadata": {},
   "outputs": [
    {
     "name": "stderr",
     "output_type": "stream",
     "text": [
      " 13%|█▎        | 902/6985 [01:58<13:35,  7.46it/s]C:\\Users\\chldb\\anaconda3\\lib\\site-packages\\librosa\\core\\spectrum.py:222: UserWarning: n_fft=2048 is too small for input signal of length=1103\n",
      "  warnings.warn(\n",
      " 78%|███████▊  | 5424/6985 [11:40<03:33,  7.32it/s]C:\\Users\\chldb\\anaconda3\\lib\\site-packages\\librosa\\core\\spectrum.py:222: UserWarning: n_fft=2048 is too small for input signal of length=1323\n",
      "  warnings.warn(\n",
      "100%|██████████| 6985/6985 [14:56<00:00,  7.80it/s]\n"
     ]
    }
   ],
   "source": [
    "x_train = list()\n",
    "y_train = list()\n",
    "for i in tqdm(range(len(train))):\n",
    "    x_train.append(extract_feature(train.file_name.iloc[i]))\n",
    "    y_train.append(train.label.iloc[i])\n",
    "    pass\n",
    "pass"
   ]
  },
  {
   "cell_type": "code",
   "execution_count": 58,
   "id": "084a9bad",
   "metadata": {},
   "outputs": [
    {
     "name": "stderr",
     "output_type": "stream",
     "text": [
      " 25%|██▍       | 430/1747 [00:53<02:08, 10.27it/s]C:\\Users\\chldb\\anaconda3\\lib\\site-packages\\librosa\\core\\spectrum.py:222: UserWarning: n_fft=2048 is too small for input signal of length=1523\n",
      "  warnings.warn(\n",
      "100%|██████████| 1747/1747 [03:40<00:00,  7.91it/s]\n"
     ]
    }
   ],
   "source": [
    "x_test = list()\n",
    "y_test = list()\n",
    "for i in tqdm(range(len(test))):\n",
    "    x_test.append(extract_feature(test.file_name.iloc[i]))\n",
    "    y_test.append(test.label.iloc[i])\n",
    "    pass\n",
    "pass"
   ]
  },
  {
   "cell_type": "code",
   "execution_count": 59,
   "id": "9cd4549f",
   "metadata": {},
   "outputs": [
    {
     "name": "stdout",
     "output_type": "stream",
     "text": [
      "x_train 6985 y_train 6985\n"
     ]
    }
   ],
   "source": [
    "print(\"x_train\",len(x_train),\"y_train\", len(y_train))"
   ]
  },
  {
   "cell_type": "code",
   "execution_count": 62,
   "id": "e4103a32",
   "metadata": {},
   "outputs": [
    {
     "name": "stdout",
     "output_type": "stream",
     "text": [
      "x_test 1747 y_test 1747\n"
     ]
    }
   ],
   "source": [
    "print(\"x_test\",len(x_test),\"y_test\", len(y_test))"
   ]
  },
  {
   "cell_type": "code",
   "execution_count": 60,
   "id": "7fbda95b",
   "metadata": {},
   "outputs": [],
   "source": [
    "# Q. 주요 특성이 (40,173)인가?? \n",
    "X_train, Y_train = list(), list()\n",
    "for x,y in zip(x_train,y_train):\n",
    "    if x.shape == (40, 173):\n",
    "        X_train.append(x)\n",
    "        Y_train.append(y)\n",
    "        pass\n",
    "    pass\n",
    "pass"
   ]
  },
  {
   "cell_type": "code",
   "execution_count": 61,
   "id": "b69cb9a9",
   "metadata": {},
   "outputs": [],
   "source": [
    "X_test, Y_test = list(), list()\n",
    "for x,y in zip(x_test,y_test):\n",
    "    if x.shape == (40, 173):\n",
    "        X_test.append(x)\n",
    "        Y_test.append(y)\n",
    "        pass\n",
    "    pass\n",
    "pass"
   ]
  },
  {
   "cell_type": "code",
   "execution_count": 63,
   "id": "2c04ca10",
   "metadata": {},
   "outputs": [],
   "source": [
    "X_train = np.array(X_train)\n",
    "Y_train = np.array(Y_train)\n",
    "\n",
    "X_test = np.array(X_test)\n",
    "Y_test = np.array(Y_test)"
   ]
  },
  {
   "cell_type": "code",
   "execution_count": 64,
   "id": "5fcfd071",
   "metadata": {},
   "outputs": [
    {
     "name": "stdout",
     "output_type": "stream",
     "text": [
      "(5846, 40, 173)\n",
      "(1481, 40, 173)\n"
     ]
    }
   ],
   "source": [
    "print(X_train.shape)\n",
    "print(X_test.shape)"
   ]
  },
  {
   "cell_type": "code",
   "execution_count": 65,
   "id": "ffda8cbe",
   "metadata": {},
   "outputs": [
    {
     "name": "stdout",
     "output_type": "stream",
     "text": [
      "Wall time: 4 ms\n"
     ]
    }
   ],
   "source": [
    "# time : 전체 쉘에 대한 Wall time\n",
    "# LabelEncoder() : 문자를 숫자(수치화), 숫자를 문자로 매핑\n",
    "%%time\n",
    "encoder = LabelEncoder()\n",
    "encoder.fit(Y_train)\n",
    "\n",
    "Y_train = encoder.transform(Y_train)\n",
    "Y_test = encoder.transform(Y_test)"
   ]
  },
  {
   "cell_type": "code",
   "execution_count": 66,
   "id": "77d674f8",
   "metadata": {},
   "outputs": [],
   "source": [
    "X_train = X_train.reshape(X_train.shape[0], X_train.shape[1], X_train.shape[2], 1)\n",
    "X_test = X_test.reshape(X_test.shape[0], X_test.shape[1], X_test.shape[2], 1)\n",
    "Y_train1 = to_categorical(Y_train)\n",
    "Y_test1 = to_categorical(Y_test)"
   ]
  },
  {
   "cell_type": "code",
   "execution_count": 84,
   "id": "35514e22",
   "metadata": {},
   "outputs": [
    {
     "data": {
      "text/plain": [
       "(1481, 40, 173, 1)"
      ]
     },
     "execution_count": 84,
     "metadata": {},
     "output_type": "execute_result"
    }
   ],
   "source": [
    "X_test.shape"
   ]
  },
  {
   "cell_type": "code",
   "execution_count": 67,
   "id": "0e3fd603",
   "metadata": {},
   "outputs": [],
   "source": [
    "model = Sequential()\n",
    "model.add(Conv2D(filters=16, kernel_size=2, input_shape=(40, 173, 1), activation='relu'))\n",
    "model.add(MaxPooling2D(pool_size=2))\n",
    "model.add(Dropout(0.2))\n",
    "\n",
    "model.add(Conv2D(filters=32, kernel_size=2, activation='relu'))\n",
    "model.add(MaxPooling2D(pool_size=2))\n",
    "model.add(Dropout(0.2))\n",
    "\n",
    "model.add(Conv2D(filters=64, kernel_size=2, activation='relu'))\n",
    "model.add(MaxPooling2D(pool_size=2))\n",
    "model.add(Dropout(0.2))\n",
    "\n",
    "model.add(Conv2D(filters=128, kernel_size=2, activation='relu'))\n",
    "model.add(MaxPooling2D(pool_size=2))\n",
    "model.add(Dropout(0.5))\n",
    "model.add(GlobalAveragePooling2D())\n",
    "\n",
    "model.add(Dense(10, activation='softmax'))"
   ]
  },
  {
   "cell_type": "code",
   "execution_count": 68,
   "id": "9c376a2c",
   "metadata": {},
   "outputs": [],
   "source": [
    "model.compile(loss='categorical_crossentropy', metrics=['accuracy'], optimizer='adam')"
   ]
  },
  {
   "cell_type": "code",
   "execution_count": 69,
   "id": "8b4221f7",
   "metadata": {},
   "outputs": [
    {
     "name": "stdout",
     "output_type": "stream",
     "text": [
      "Epoch 1/300\n",
      "46/46 [==============================] - 11s 227ms/step - loss: 3.8216 - accuracy: 0.1986 - val_loss: 2.0442 - val_accuracy: 0.2917\n",
      "Epoch 2/300\n",
      "46/46 [==============================] - 10s 222ms/step - loss: 1.7920 - accuracy: 0.3435 - val_loss: 1.7978 - val_accuracy: 0.4301\n",
      "Epoch 3/300\n",
      "46/46 [==============================] - 10s 214ms/step - loss: 1.5079 - accuracy: 0.4644 - val_loss: 1.5682 - val_accuracy: 0.5138\n",
      "Epoch 4/300\n",
      "46/46 [==============================] - 10s 224ms/step - loss: 1.3835 - accuracy: 0.5168 - val_loss: 1.4942 - val_accuracy: 0.5084\n",
      "Epoch 5/300\n",
      "46/46 [==============================] - 10s 226ms/step - loss: 1.2920 - accuracy: 0.5511 - val_loss: 1.3964 - val_accuracy: 0.5611\n",
      "Epoch 6/300\n",
      "46/46 [==============================] - 10s 215ms/step - loss: 1.2304 - accuracy: 0.5806 - val_loss: 1.3840 - val_accuracy: 0.5611\n",
      "Epoch 7/300\n",
      "46/46 [==============================] - 10s 211ms/step - loss: 1.1634 - accuracy: 0.6091 - val_loss: 1.3017 - val_accuracy: 0.5888\n",
      "Epoch 8/300\n",
      "46/46 [==============================] - 10s 215ms/step - loss: 1.1184 - accuracy: 0.6230 - val_loss: 1.1799 - val_accuracy: 0.6286\n",
      "Epoch 9/300\n",
      "46/46 [==============================] - 10s 215ms/step - loss: 1.0691 - accuracy: 0.6387 - val_loss: 1.1218 - val_accuracy: 0.6577\n",
      "Epoch 10/300\n",
      "46/46 [==============================] - 10s 212ms/step - loss: 1.0146 - accuracy: 0.6605 - val_loss: 1.0930 - val_accuracy: 0.6779\n",
      "Epoch 11/300\n",
      "46/46 [==============================] - 10s 212ms/step - loss: 0.9870 - accuracy: 0.6692 - val_loss: 1.0364 - val_accuracy: 0.6887\n",
      "Epoch 12/300\n",
      "46/46 [==============================] - 10s 214ms/step - loss: 0.9359 - accuracy: 0.6959 - val_loss: 1.0253 - val_accuracy: 0.6786\n",
      "Epoch 13/300\n",
      "46/46 [==============================] - 10s 215ms/step - loss: 0.8875 - accuracy: 0.7078 - val_loss: 0.9483 - val_accuracy: 0.7097\n",
      "Epoch 14/300\n",
      "46/46 [==============================] - 10s 226ms/step - loss: 0.8657 - accuracy: 0.7130 - val_loss: 0.9544 - val_accuracy: 0.7090\n",
      "Epoch 15/300\n",
      "46/46 [==============================] - 10s 217ms/step - loss: 0.8407 - accuracy: 0.7160 - val_loss: 0.9089 - val_accuracy: 0.7218\n",
      "Epoch 16/300\n",
      "46/46 [==============================] - 10s 219ms/step - loss: 0.8036 - accuracy: 0.7335 - val_loss: 0.8469 - val_accuracy: 0.7414\n",
      "Epoch 17/300\n",
      "46/46 [==============================] - 10s 223ms/step - loss: 0.7696 - accuracy: 0.7475 - val_loss: 0.8508 - val_accuracy: 0.7279\n",
      "Epoch 18/300\n",
      "46/46 [==============================] - 10s 226ms/step - loss: 0.7348 - accuracy: 0.7576 - val_loss: 0.7595 - val_accuracy: 0.7630\n",
      "Epoch 19/300\n",
      "46/46 [==============================] - 10s 224ms/step - loss: 0.7059 - accuracy: 0.7665 - val_loss: 0.7756 - val_accuracy: 0.7508\n",
      "Epoch 20/300\n",
      "46/46 [==============================] - 10s 225ms/step - loss: 0.6875 - accuracy: 0.7727 - val_loss: 0.7047 - val_accuracy: 0.7853\n",
      "Epoch 21/300\n",
      "46/46 [==============================] - 10s 224ms/step - loss: 0.6767 - accuracy: 0.7733 - val_loss: 0.7071 - val_accuracy: 0.7954\n",
      "Epoch 22/300\n",
      "46/46 [==============================] - 10s 224ms/step - loss: 0.6449 - accuracy: 0.7877 - val_loss: 0.6733 - val_accuracy: 0.7974\n",
      "Epoch 23/300\n",
      "46/46 [==============================] - 10s 222ms/step - loss: 0.6424 - accuracy: 0.7857 - val_loss: 0.7010 - val_accuracy: 0.7839\n",
      "Epoch 24/300\n",
      "46/46 [==============================] - 10s 228ms/step - loss: 0.6063 - accuracy: 0.7952 - val_loss: 0.6680 - val_accuracy: 0.8008\n",
      "Epoch 25/300\n",
      "46/46 [==============================] - 11s 231ms/step - loss: 0.5780 - accuracy: 0.8077 - val_loss: 0.6435 - val_accuracy: 0.8049\n",
      "Epoch 26/300\n",
      "46/46 [==============================] - 10s 222ms/step - loss: 0.5784 - accuracy: 0.8029 - val_loss: 0.6228 - val_accuracy: 0.8096\n",
      "Epoch 27/300\n",
      "46/46 [==============================] - 10s 216ms/step - loss: 0.5752 - accuracy: 0.8120 - val_loss: 0.6260 - val_accuracy: 0.8157\n",
      "Epoch 28/300\n",
      "46/46 [==============================] - 10s 216ms/step - loss: 0.5434 - accuracy: 0.8257 - val_loss: 0.6171 - val_accuracy: 0.8177\n",
      "Epoch 29/300\n",
      "46/46 [==============================] - 10s 225ms/step - loss: 0.5145 - accuracy: 0.8295 - val_loss: 0.5988 - val_accuracy: 0.8163\n",
      "Epoch 30/300\n",
      "46/46 [==============================] - 10s 222ms/step - loss: 0.5128 - accuracy: 0.8288 - val_loss: 0.6087 - val_accuracy: 0.8136\n",
      "Epoch 31/300\n",
      "46/46 [==============================] - 10s 214ms/step - loss: 0.5033 - accuracy: 0.8346 - val_loss: 0.5571 - val_accuracy: 0.8265\n",
      "Epoch 32/300\n",
      "46/46 [==============================] - 10s 216ms/step - loss: 0.4819 - accuracy: 0.8384 - val_loss: 0.5766 - val_accuracy: 0.8238\n",
      "Epoch 33/300\n",
      "46/46 [==============================] - 10s 220ms/step - loss: 0.4883 - accuracy: 0.8404 - val_loss: 0.5823 - val_accuracy: 0.8265\n",
      "Epoch 34/300\n",
      "46/46 [==============================] - 10s 223ms/step - loss: 0.4748 - accuracy: 0.8419 - val_loss: 0.5685 - val_accuracy: 0.8224\n",
      "Epoch 35/300\n",
      "46/46 [==============================] - 10s 222ms/step - loss: 0.4608 - accuracy: 0.8438 - val_loss: 0.5313 - val_accuracy: 0.8238\n",
      "Epoch 36/300\n",
      "46/46 [==============================] - 10s 225ms/step - loss: 0.4507 - accuracy: 0.8496 - val_loss: 0.5298 - val_accuracy: 0.8467\n",
      "Epoch 37/300\n",
      "46/46 [==============================] - 10s 218ms/step - loss: 0.4331 - accuracy: 0.8548 - val_loss: 0.5358 - val_accuracy: 0.8325\n",
      "Epoch 38/300\n",
      "46/46 [==============================] - 10s 225ms/step - loss: 0.4308 - accuracy: 0.8548 - val_loss: 0.5074 - val_accuracy: 0.8488\n",
      "Epoch 39/300\n",
      "46/46 [==============================] - 10s 218ms/step - loss: 0.4314 - accuracy: 0.8575 - val_loss: 0.5009 - val_accuracy: 0.8346\n",
      "Epoch 40/300\n",
      "46/46 [==============================] - 10s 217ms/step - loss: 0.4225 - accuracy: 0.8580 - val_loss: 0.4642 - val_accuracy: 0.8623\n",
      "Epoch 41/300\n",
      "46/46 [==============================] - 11s 230ms/step - loss: 0.3967 - accuracy: 0.8659 - val_loss: 0.4895 - val_accuracy: 0.8454\n",
      "Epoch 42/300\n",
      "46/46 [==============================] - 10s 216ms/step - loss: 0.3945 - accuracy: 0.8659 - val_loss: 0.4685 - val_accuracy: 0.8629\n",
      "Epoch 43/300\n",
      "46/46 [==============================] - 10s 221ms/step - loss: 0.3848 - accuracy: 0.8727 - val_loss: 0.4910 - val_accuracy: 0.8515\n",
      "Epoch 44/300\n",
      "46/46 [==============================] - 10s 219ms/step - loss: 0.3717 - accuracy: 0.8736 - val_loss: 0.5090 - val_accuracy: 0.8400\n",
      "Epoch 45/300\n",
      "46/46 [==============================] - 10s 216ms/step - loss: 0.3747 - accuracy: 0.8763 - val_loss: 0.4657 - val_accuracy: 0.8629\n",
      "Epoch 46/300\n",
      "46/46 [==============================] - 10s 225ms/step - loss: 0.3746 - accuracy: 0.8741 - val_loss: 0.4902 - val_accuracy: 0.8535\n",
      "Epoch 47/300\n",
      "46/46 [==============================] - 10s 219ms/step - loss: 0.3597 - accuracy: 0.8753 - val_loss: 0.4813 - val_accuracy: 0.8542\n",
      "Epoch 48/300\n",
      "46/46 [==============================] - 10s 211ms/step - loss: 0.3515 - accuracy: 0.8801 - val_loss: 0.4587 - val_accuracy: 0.8677\n",
      "Epoch 49/300\n",
      "46/46 [==============================] - 10s 213ms/step - loss: 0.3509 - accuracy: 0.8813 - val_loss: 0.4642 - val_accuracy: 0.8609\n",
      "Epoch 50/300\n",
      "46/46 [==============================] - 10s 211ms/step - loss: 0.3354 - accuracy: 0.8904 - val_loss: 0.4286 - val_accuracy: 0.8751\n",
      "Epoch 51/300\n",
      "46/46 [==============================] - 10s 224ms/step - loss: 0.3381 - accuracy: 0.8852 - val_loss: 0.4280 - val_accuracy: 0.8690\n",
      "Epoch 52/300\n",
      "46/46 [==============================] - 10s 223ms/step - loss: 0.3450 - accuracy: 0.8815 - val_loss: 0.4597 - val_accuracy: 0.8589\n",
      "Epoch 53/300\n",
      "46/46 [==============================] - 10s 221ms/step - loss: 0.3306 - accuracy: 0.8842 - val_loss: 0.4511 - val_accuracy: 0.8623\n",
      "Epoch 54/300\n",
      "46/46 [==============================] - 10s 224ms/step - loss: 0.3225 - accuracy: 0.8912 - val_loss: 0.4027 - val_accuracy: 0.8771\n",
      "Epoch 55/300\n",
      "46/46 [==============================] - 11s 233ms/step - loss: 0.3067 - accuracy: 0.8970 - val_loss: 0.4400 - val_accuracy: 0.8697\n",
      "Epoch 56/300\n",
      "46/46 [==============================] - 10s 223ms/step - loss: 0.3148 - accuracy: 0.8919 - val_loss: 0.4078 - val_accuracy: 0.8852\n",
      "Epoch 57/300\n"
     ]
    },
    {
     "name": "stdout",
     "output_type": "stream",
     "text": [
      "46/46 [==============================] - 10s 226ms/step - loss: 0.3019 - accuracy: 0.8965 - val_loss: 0.4735 - val_accuracy: 0.8521\n",
      "Epoch 58/300\n",
      "46/46 [==============================] - 10s 225ms/step - loss: 0.3115 - accuracy: 0.8915 - val_loss: 0.4374 - val_accuracy: 0.8731\n",
      "Epoch 59/300\n",
      "46/46 [==============================] - 10s 219ms/step - loss: 0.3036 - accuracy: 0.8950 - val_loss: 0.4308 - val_accuracy: 0.8656\n",
      "Epoch 60/300\n",
      "46/46 [==============================] - 10s 219ms/step - loss: 0.2952 - accuracy: 0.8960 - val_loss: 0.4382 - val_accuracy: 0.8764\n",
      "Epoch 61/300\n",
      "46/46 [==============================] - 10s 229ms/step - loss: 0.3014 - accuracy: 0.8998 - val_loss: 0.4329 - val_accuracy: 0.8731\n",
      "Epoch 62/300\n",
      "46/46 [==============================] - 11s 234ms/step - loss: 0.2903 - accuracy: 0.9015 - val_loss: 0.4046 - val_accuracy: 0.8879\n",
      "Epoch 63/300\n",
      "46/46 [==============================] - 10s 225ms/step - loss: 0.2749 - accuracy: 0.9066 - val_loss: 0.4258 - val_accuracy: 0.8791\n",
      "Epoch 64/300\n",
      "46/46 [==============================] - 10s 224ms/step - loss: 0.2834 - accuracy: 0.9056 - val_loss: 0.4100 - val_accuracy: 0.8798\n",
      "Epoch 65/300\n",
      "46/46 [==============================] - 11s 234ms/step - loss: 0.2728 - accuracy: 0.9032 - val_loss: 0.3925 - val_accuracy: 0.8845\n",
      "Epoch 66/300\n",
      "46/46 [==============================] - 11s 231ms/step - loss: 0.2798 - accuracy: 0.9040 - val_loss: 0.4169 - val_accuracy: 0.8724\n",
      "Epoch 67/300\n",
      "46/46 [==============================] - 10s 220ms/step - loss: 0.2748 - accuracy: 0.9076 - val_loss: 0.4076 - val_accuracy: 0.8866\n",
      "Epoch 68/300\n",
      "46/46 [==============================] - 10s 219ms/step - loss: 0.2678 - accuracy: 0.9073 - val_loss: 0.4066 - val_accuracy: 0.8710\n",
      "Epoch 69/300\n",
      "46/46 [==============================] - 10s 223ms/step - loss: 0.2670 - accuracy: 0.9063 - val_loss: 0.3992 - val_accuracy: 0.8818\n",
      "Epoch 70/300\n",
      "46/46 [==============================] - 10s 224ms/step - loss: 0.2643 - accuracy: 0.9087 - val_loss: 0.4101 - val_accuracy: 0.8724\n",
      "Epoch 71/300\n",
      "46/46 [==============================] - 11s 235ms/step - loss: 0.2552 - accuracy: 0.9121 - val_loss: 0.4463 - val_accuracy: 0.8731\n",
      "Epoch 72/300\n",
      "46/46 [==============================] - 10s 223ms/step - loss: 0.2469 - accuracy: 0.9116 - val_loss: 0.4262 - val_accuracy: 0.8737\n",
      "Epoch 73/300\n",
      "46/46 [==============================] - 10s 225ms/step - loss: 0.2478 - accuracy: 0.9133 - val_loss: 0.3879 - val_accuracy: 0.8845\n",
      "Epoch 74/300\n",
      "46/46 [==============================] - 10s 226ms/step - loss: 0.2539 - accuracy: 0.9078 - val_loss: 0.4001 - val_accuracy: 0.8812\n",
      "Epoch 75/300\n",
      "46/46 [==============================] - 11s 232ms/step - loss: 0.2427 - accuracy: 0.9174 - val_loss: 0.4186 - val_accuracy: 0.8778\n",
      "Epoch 76/300\n",
      "46/46 [==============================] - 10s 227ms/step - loss: 0.2470 - accuracy: 0.9146 - val_loss: 0.4238 - val_accuracy: 0.8764\n",
      "Epoch 77/300\n",
      "46/46 [==============================] - 11s 230ms/step - loss: 0.2412 - accuracy: 0.9134 - val_loss: 0.4160 - val_accuracy: 0.8771\n",
      "Epoch 78/300\n",
      "46/46 [==============================] - 11s 232ms/step - loss: 0.2648 - accuracy: 0.9073 - val_loss: 0.3836 - val_accuracy: 0.8953\n",
      "Epoch 79/300\n",
      "46/46 [==============================] - 11s 232ms/step - loss: 0.2515 - accuracy: 0.9129 - val_loss: 0.3833 - val_accuracy: 0.8879\n",
      "Epoch 80/300\n",
      "46/46 [==============================] - 10s 223ms/step - loss: 0.2371 - accuracy: 0.9164 - val_loss: 0.4003 - val_accuracy: 0.8812\n",
      "Epoch 81/300\n",
      "46/46 [==============================] - 10s 228ms/step - loss: 0.2287 - accuracy: 0.9235 - val_loss: 0.3781 - val_accuracy: 0.8933\n",
      "Epoch 82/300\n",
      "46/46 [==============================] - 11s 232ms/step - loss: 0.2393 - accuracy: 0.9179 - val_loss: 0.3928 - val_accuracy: 0.8785\n",
      "Epoch 83/300\n",
      "46/46 [==============================] - 10s 224ms/step - loss: 0.2253 - accuracy: 0.9227 - val_loss: 0.3669 - val_accuracy: 0.8967\n",
      "Epoch 84/300\n",
      "46/46 [==============================] - 10s 222ms/step - loss: 0.2148 - accuracy: 0.9246 - val_loss: 0.4072 - val_accuracy: 0.8825\n",
      "Epoch 85/300\n",
      "46/46 [==============================] - 10s 228ms/step - loss: 0.2251 - accuracy: 0.9211 - val_loss: 0.3476 - val_accuracy: 0.9001\n",
      "Epoch 86/300\n",
      "46/46 [==============================] - 10s 229ms/step - loss: 0.2095 - accuracy: 0.9254 - val_loss: 0.3616 - val_accuracy: 0.8899\n",
      "Epoch 87/300\n",
      "46/46 [==============================] - 10s 223ms/step - loss: 0.2190 - accuracy: 0.9203 - val_loss: 0.3528 - val_accuracy: 0.9014\n",
      "Epoch 88/300\n",
      "46/46 [==============================] - 10s 222ms/step - loss: 0.2189 - accuracy: 0.9242 - val_loss: 0.4102 - val_accuracy: 0.8751\n",
      "Epoch 89/300\n",
      "46/46 [==============================] - 10s 227ms/step - loss: 0.2227 - accuracy: 0.9211 - val_loss: 0.3657 - val_accuracy: 0.8960\n",
      "Epoch 90/300\n",
      "46/46 [==============================] - 11s 243ms/step - loss: 0.2054 - accuracy: 0.9270 - val_loss: 0.3445 - val_accuracy: 0.8933\n",
      "Epoch 91/300\n",
      "46/46 [==============================] - 10s 228ms/step - loss: 0.2168 - accuracy: 0.9222 - val_loss: 0.3774 - val_accuracy: 0.8926\n",
      "Epoch 92/300\n",
      "46/46 [==============================] - 10s 224ms/step - loss: 0.2050 - accuracy: 0.9278 - val_loss: 0.3627 - val_accuracy: 0.8947\n",
      "Epoch 93/300\n",
      "46/46 [==============================] - 11s 233ms/step - loss: 0.2176 - accuracy: 0.9227 - val_loss: 0.3999 - val_accuracy: 0.8893\n",
      "Epoch 94/300\n",
      "46/46 [==============================] - 11s 239ms/step - loss: 0.2112 - accuracy: 0.9276 - val_loss: 0.3626 - val_accuracy: 0.8913\n",
      "Epoch 95/300\n",
      "46/46 [==============================] - 11s 249ms/step - loss: 0.2033 - accuracy: 0.9297 - val_loss: 0.3453 - val_accuracy: 0.9001\n",
      "Epoch 96/300\n",
      "46/46 [==============================] - 11s 237ms/step - loss: 0.2046 - accuracy: 0.9309 - val_loss: 0.3797 - val_accuracy: 0.8899\n",
      "Epoch 97/300\n",
      "46/46 [==============================] - 11s 228ms/step - loss: 0.1903 - accuracy: 0.9314 - val_loss: 0.3656 - val_accuracy: 0.8940\n",
      "Epoch 98/300\n",
      "46/46 [==============================] - 10s 221ms/step - loss: 0.1948 - accuracy: 0.9309 - val_loss: 0.3678 - val_accuracy: 0.8960\n",
      "Epoch 99/300\n",
      "46/46 [==============================] - 10s 218ms/step - loss: 0.1974 - accuracy: 0.9280 - val_loss: 0.3870 - val_accuracy: 0.8859\n",
      "Epoch 100/300\n",
      "46/46 [==============================] - 10s 219ms/step - loss: 0.1980 - accuracy: 0.9331 - val_loss: 0.3829 - val_accuracy: 0.8872\n",
      "Epoch 101/300\n",
      "46/46 [==============================] - 10s 221ms/step - loss: 0.1948 - accuracy: 0.9306 - val_loss: 0.3433 - val_accuracy: 0.9122\n",
      "Epoch 102/300\n",
      "46/46 [==============================] - 10s 216ms/step - loss: 0.1823 - accuracy: 0.9353 - val_loss: 0.3357 - val_accuracy: 0.9028\n",
      "Epoch 103/300\n",
      "46/46 [==============================] - 10s 220ms/step - loss: 0.1862 - accuracy: 0.9345 - val_loss: 0.3401 - val_accuracy: 0.9061\n",
      "Epoch 104/300\n",
      "46/46 [==============================] - 10s 218ms/step - loss: 0.1763 - accuracy: 0.9360 - val_loss: 0.3393 - val_accuracy: 0.9007\n",
      "Epoch 105/300\n",
      "46/46 [==============================] - 10s 218ms/step - loss: 0.1715 - accuracy: 0.9437 - val_loss: 0.3511 - val_accuracy: 0.9021\n",
      "Epoch 106/300\n",
      "46/46 [==============================] - 10s 219ms/step - loss: 0.1869 - accuracy: 0.9352 - val_loss: 0.3380 - val_accuracy: 0.8947\n",
      "Epoch 107/300\n",
      "46/46 [==============================] - 10s 217ms/step - loss: 0.1810 - accuracy: 0.9348 - val_loss: 0.3455 - val_accuracy: 0.9014\n",
      "Epoch 108/300\n",
      "46/46 [==============================] - 10s 218ms/step - loss: 0.1777 - accuracy: 0.9355 - val_loss: 0.3496 - val_accuracy: 0.9088\n",
      "Epoch 109/300\n",
      "46/46 [==============================] - 10s 220ms/step - loss: 0.1790 - accuracy: 0.9422 - val_loss: 0.3907 - val_accuracy: 0.8933\n",
      "Epoch 110/300\n",
      "46/46 [==============================] - 10s 216ms/step - loss: 0.1856 - accuracy: 0.9367 - val_loss: 0.3624 - val_accuracy: 0.8913\n",
      "Epoch 111/300\n",
      "46/46 [==============================] - 10s 219ms/step - loss: 0.1685 - accuracy: 0.9441 - val_loss: 0.3673 - val_accuracy: 0.8980\n",
      "Epoch 112/300\n",
      "46/46 [==============================] - 10s 218ms/step - loss: 0.1847 - accuracy: 0.9340 - val_loss: 0.3733 - val_accuracy: 0.8953\n",
      "Epoch 113/300\n"
     ]
    },
    {
     "name": "stdout",
     "output_type": "stream",
     "text": [
      "46/46 [==============================] - 10s 217ms/step - loss: 0.1669 - accuracy: 0.9403 - val_loss: 0.4075 - val_accuracy: 0.8893\n",
      "Epoch 114/300\n",
      "46/46 [==============================] - 10s 217ms/step - loss: 0.1741 - accuracy: 0.9389 - val_loss: 0.3741 - val_accuracy: 0.9028\n",
      "Epoch 115/300\n",
      "46/46 [==============================] - 10s 216ms/step - loss: 0.1690 - accuracy: 0.9384 - val_loss: 0.4125 - val_accuracy: 0.8886\n",
      "Epoch 116/300\n",
      "46/46 [==============================] - 10s 218ms/step - loss: 0.1527 - accuracy: 0.9475 - val_loss: 0.3227 - val_accuracy: 0.9109\n",
      "Epoch 117/300\n",
      "46/46 [==============================] - 10s 219ms/step - loss: 0.1637 - accuracy: 0.9442 - val_loss: 0.3457 - val_accuracy: 0.9095\n",
      "Epoch 118/300\n",
      "46/46 [==============================] - 10s 215ms/step - loss: 0.1747 - accuracy: 0.9420 - val_loss: 0.3445 - val_accuracy: 0.9041\n",
      "Epoch 119/300\n",
      "46/46 [==============================] - 10s 218ms/step - loss: 0.1614 - accuracy: 0.9434 - val_loss: 0.3244 - val_accuracy: 0.9055\n",
      "Epoch 120/300\n",
      "46/46 [==============================] - 10s 221ms/step - loss: 0.1539 - accuracy: 0.9465 - val_loss: 0.4204 - val_accuracy: 0.8893\n",
      "Epoch 121/300\n",
      "46/46 [==============================] - 10s 217ms/step - loss: 0.1772 - accuracy: 0.9400 - val_loss: 0.3429 - val_accuracy: 0.9055\n",
      "Epoch 122/300\n",
      "46/46 [==============================] - 10s 219ms/step - loss: 0.1628 - accuracy: 0.9436 - val_loss: 0.3409 - val_accuracy: 0.9034\n",
      "Epoch 123/300\n",
      "46/46 [==============================] - 10s 217ms/step - loss: 0.1885 - accuracy: 0.9326 - val_loss: 0.3340 - val_accuracy: 0.8974\n",
      "Epoch 124/300\n",
      "46/46 [==============================] - 10s 216ms/step - loss: 0.1588 - accuracy: 0.9447 - val_loss: 0.3461 - val_accuracy: 0.9095\n",
      "Epoch 125/300\n",
      "46/46 [==============================] - 10s 220ms/step - loss: 0.1571 - accuracy: 0.9459 - val_loss: 0.3329 - val_accuracy: 0.9102\n",
      "Epoch 126/300\n",
      "46/46 [==============================] - 10s 220ms/step - loss: 0.1631 - accuracy: 0.9420 - val_loss: 0.3788 - val_accuracy: 0.9061\n",
      "Epoch 127/300\n",
      "46/46 [==============================] - 10s 218ms/step - loss: 0.1666 - accuracy: 0.9441 - val_loss: 0.3768 - val_accuracy: 0.9041\n",
      "Epoch 128/300\n",
      "46/46 [==============================] - 10s 218ms/step - loss: 0.1417 - accuracy: 0.9495 - val_loss: 0.3912 - val_accuracy: 0.8994\n",
      "Epoch 129/300\n",
      "46/46 [==============================] - 10s 217ms/step - loss: 0.1554 - accuracy: 0.9439 - val_loss: 0.3370 - val_accuracy: 0.9149\n",
      "Epoch 130/300\n",
      "46/46 [==============================] - 10s 218ms/step - loss: 0.1562 - accuracy: 0.9425 - val_loss: 0.3246 - val_accuracy: 0.9169\n",
      "Epoch 131/300\n",
      "46/46 [==============================] - 10s 216ms/step - loss: 0.1435 - accuracy: 0.9506 - val_loss: 0.3359 - val_accuracy: 0.9095\n",
      "Epoch 132/300\n",
      "46/46 [==============================] - 10s 217ms/step - loss: 0.1494 - accuracy: 0.9473 - val_loss: 0.3471 - val_accuracy: 0.9122\n",
      "Epoch 133/300\n",
      "46/46 [==============================] - 10s 218ms/step - loss: 0.1479 - accuracy: 0.9470 - val_loss: 0.3344 - val_accuracy: 0.9109\n",
      "Epoch 134/300\n",
      "46/46 [==============================] - 10s 218ms/step - loss: 0.1551 - accuracy: 0.9451 - val_loss: 0.3840 - val_accuracy: 0.9028\n",
      "Epoch 135/300\n",
      "46/46 [==============================] - 10s 218ms/step - loss: 0.1482 - accuracy: 0.9502 - val_loss: 0.3343 - val_accuracy: 0.9088\n",
      "Epoch 136/300\n",
      "46/46 [==============================] - 10s 217ms/step - loss: 0.1518 - accuracy: 0.9410 - val_loss: 0.3804 - val_accuracy: 0.8933\n",
      "Epoch 137/300\n",
      "46/46 [==============================] - 10s 216ms/step - loss: 0.1431 - accuracy: 0.9533 - val_loss: 0.3628 - val_accuracy: 0.9061\n",
      "Epoch 138/300\n",
      "46/46 [==============================] - 10s 218ms/step - loss: 0.1477 - accuracy: 0.9456 - val_loss: 0.3467 - val_accuracy: 0.9129\n",
      "Epoch 139/300\n",
      "46/46 [==============================] - 10s 217ms/step - loss: 0.1506 - accuracy: 0.9477 - val_loss: 0.3308 - val_accuracy: 0.9068\n",
      "Epoch 140/300\n",
      "46/46 [==============================] - 10s 218ms/step - loss: 0.1357 - accuracy: 0.9501 - val_loss: 0.3579 - val_accuracy: 0.9034\n",
      "Epoch 141/300\n",
      "46/46 [==============================] - 10s 218ms/step - loss: 0.1379 - accuracy: 0.9502 - val_loss: 0.3736 - val_accuracy: 0.8960\n",
      "Epoch 142/300\n",
      "46/46 [==============================] - 10s 218ms/step - loss: 0.1400 - accuracy: 0.9502 - val_loss: 0.3522 - val_accuracy: 0.9007\n",
      "Epoch 143/300\n",
      "46/46 [==============================] - 10s 218ms/step - loss: 0.1489 - accuracy: 0.9466 - val_loss: 0.3426 - val_accuracy: 0.9102\n",
      "Epoch 144/300\n",
      "46/46 [==============================] - 10s 218ms/step - loss: 0.1457 - accuracy: 0.9499 - val_loss: 0.3697 - val_accuracy: 0.8994\n",
      "Epoch 145/300\n",
      "46/46 [==============================] - 10s 221ms/step - loss: 0.1567 - accuracy: 0.9420 - val_loss: 0.3578 - val_accuracy: 0.9088\n",
      "Epoch 146/300\n",
      "46/46 [==============================] - 10s 219ms/step - loss: 0.1406 - accuracy: 0.9516 - val_loss: 0.3321 - val_accuracy: 0.9109\n",
      "Epoch 147/300\n",
      "46/46 [==============================] - 10s 218ms/step - loss: 0.1349 - accuracy: 0.9497 - val_loss: 0.3630 - val_accuracy: 0.9068\n",
      "Epoch 148/300\n",
      "46/46 [==============================] - 10s 223ms/step - loss: 0.1346 - accuracy: 0.9533 - val_loss: 0.3804 - val_accuracy: 0.8980\n",
      "Epoch 149/300\n",
      "46/46 [==============================] - 10s 219ms/step - loss: 0.1530 - accuracy: 0.9480 - val_loss: 0.3507 - val_accuracy: 0.9102\n",
      "Epoch 150/300\n",
      "46/46 [==============================] - 10s 218ms/step - loss: 0.1467 - accuracy: 0.9454 - val_loss: 0.3410 - val_accuracy: 0.9075\n",
      "Epoch 151/300\n",
      "46/46 [==============================] - 10s 218ms/step - loss: 0.1321 - accuracy: 0.9512 - val_loss: 0.3509 - val_accuracy: 0.9095\n",
      "Epoch 152/300\n",
      "46/46 [==============================] - 10s 218ms/step - loss: 0.1337 - accuracy: 0.9540 - val_loss: 0.3529 - val_accuracy: 0.9122\n",
      "Epoch 153/300\n",
      "46/46 [==============================] - 10s 216ms/step - loss: 0.1380 - accuracy: 0.9511 - val_loss: 0.3247 - val_accuracy: 0.9102\n",
      "Epoch 154/300\n",
      "46/46 [==============================] - 10s 221ms/step - loss: 0.1257 - accuracy: 0.9560 - val_loss: 0.3461 - val_accuracy: 0.9122\n",
      "Epoch 155/300\n",
      "46/46 [==============================] - 10s 217ms/step - loss: 0.1260 - accuracy: 0.9555 - val_loss: 0.3373 - val_accuracy: 0.9136\n",
      "Epoch 156/300\n",
      "46/46 [==============================] - 10s 219ms/step - loss: 0.1392 - accuracy: 0.9518 - val_loss: 0.3636 - val_accuracy: 0.9142\n",
      "Epoch 157/300\n",
      "46/46 [==============================] - 10s 219ms/step - loss: 0.1456 - accuracy: 0.9480 - val_loss: 0.3280 - val_accuracy: 0.9129\n",
      "Epoch 158/300\n",
      "46/46 [==============================] - 10s 216ms/step - loss: 0.1248 - accuracy: 0.9581 - val_loss: 0.3151 - val_accuracy: 0.9210\n",
      "Epoch 159/300\n",
      "46/46 [==============================] - 10s 219ms/step - loss: 0.1313 - accuracy: 0.9511 - val_loss: 0.3379 - val_accuracy: 0.9163\n",
      "Epoch 160/300\n",
      "46/46 [==============================] - 10s 218ms/step - loss: 0.1125 - accuracy: 0.9596 - val_loss: 0.3528 - val_accuracy: 0.9142\n",
      "Epoch 161/300\n",
      "46/46 [==============================] - 10s 218ms/step - loss: 0.1269 - accuracy: 0.9569 - val_loss: 0.3150 - val_accuracy: 0.9129\n",
      "Epoch 162/300\n",
      "46/46 [==============================] - 10s 219ms/step - loss: 0.1229 - accuracy: 0.9571 - val_loss: 0.3264 - val_accuracy: 0.9230\n",
      "Epoch 163/300\n",
      "46/46 [==============================] - 10s 217ms/step - loss: 0.1187 - accuracy: 0.9601 - val_loss: 0.3411 - val_accuracy: 0.9109\n",
      "Epoch 164/300\n",
      "46/46 [==============================] - 10s 220ms/step - loss: 0.1287 - accuracy: 0.9543 - val_loss: 0.3140 - val_accuracy: 0.9149\n",
      "Epoch 165/300\n",
      "46/46 [==============================] - 10s 224ms/step - loss: 0.1316 - accuracy: 0.9533 - val_loss: 0.3626 - val_accuracy: 0.9028\n",
      "Epoch 166/300\n",
      "46/46 [==============================] - 10s 219ms/step - loss: 0.1278 - accuracy: 0.9533 - val_loss: 0.3347 - val_accuracy: 0.9163\n",
      "Epoch 167/300\n",
      "46/46 [==============================] - 10s 219ms/step - loss: 0.1237 - accuracy: 0.9533 - val_loss: 0.3685 - val_accuracy: 0.9095\n",
      "Epoch 168/300\n",
      "46/46 [==============================] - 10s 222ms/step - loss: 0.1333 - accuracy: 0.9530 - val_loss: 0.3415 - val_accuracy: 0.9068\n",
      "Epoch 169/300\n"
     ]
    },
    {
     "name": "stdout",
     "output_type": "stream",
     "text": [
      "46/46 [==============================] - 10s 220ms/step - loss: 0.1264 - accuracy: 0.9554 - val_loss: 0.3735 - val_accuracy: 0.9001\n",
      "Epoch 170/300\n",
      "46/46 [==============================] - 10s 220ms/step - loss: 0.1281 - accuracy: 0.9535 - val_loss: 0.3231 - val_accuracy: 0.9109\n",
      "Epoch 171/300\n",
      "46/46 [==============================] - 10s 221ms/step - loss: 0.1293 - accuracy: 0.9531 - val_loss: 0.3033 - val_accuracy: 0.9203\n",
      "Epoch 172/300\n",
      "46/46 [==============================] - 10s 219ms/step - loss: 0.1279 - accuracy: 0.9528 - val_loss: 0.3595 - val_accuracy: 0.9122\n",
      "Epoch 173/300\n",
      "46/46 [==============================] - 10s 220ms/step - loss: 0.1191 - accuracy: 0.9564 - val_loss: 0.3168 - val_accuracy: 0.9223\n",
      "Epoch 174/300\n",
      "46/46 [==============================] - 10s 218ms/step - loss: 0.1161 - accuracy: 0.9596 - val_loss: 0.3461 - val_accuracy: 0.9149\n",
      "Epoch 175/300\n",
      "46/46 [==============================] - 10s 220ms/step - loss: 0.1182 - accuracy: 0.9589 - val_loss: 0.3655 - val_accuracy: 0.9055\n",
      "Epoch 176/300\n",
      "46/46 [==============================] - 10s 219ms/step - loss: 0.1183 - accuracy: 0.9562 - val_loss: 0.3374 - val_accuracy: 0.9129\n",
      "Epoch 177/300\n",
      "46/46 [==============================] - 10s 219ms/step - loss: 0.1141 - accuracy: 0.9598 - val_loss: 0.3671 - val_accuracy: 0.9109\n",
      "Epoch 178/300\n",
      "46/46 [==============================] - 10s 221ms/step - loss: 0.1217 - accuracy: 0.9601 - val_loss: 0.3789 - val_accuracy: 0.9034\n",
      "Epoch 179/300\n",
      "46/46 [==============================] - 10s 220ms/step - loss: 0.1248 - accuracy: 0.9543 - val_loss: 0.3402 - val_accuracy: 0.9183\n",
      "Epoch 180/300\n",
      "46/46 [==============================] - 10s 217ms/step - loss: 0.1222 - accuracy: 0.9567 - val_loss: 0.3354 - val_accuracy: 0.9142\n",
      "Epoch 181/300\n",
      "46/46 [==============================] - 10s 220ms/step - loss: 0.1274 - accuracy: 0.9555 - val_loss: 0.3493 - val_accuracy: 0.9129\n",
      "Epoch 182/300\n",
      "46/46 [==============================] - 10s 215ms/step - loss: 0.1138 - accuracy: 0.9598 - val_loss: 0.3143 - val_accuracy: 0.9190\n",
      "Epoch 183/300\n",
      "46/46 [==============================] - 10s 220ms/step - loss: 0.1187 - accuracy: 0.9566 - val_loss: 0.3381 - val_accuracy: 0.9176\n",
      "Epoch 184/300\n",
      "46/46 [==============================] - 10s 218ms/step - loss: 0.1226 - accuracy: 0.9596 - val_loss: 0.3272 - val_accuracy: 0.9183\n",
      "Epoch 185/300\n",
      "46/46 [==============================] - 10s 215ms/step - loss: 0.1209 - accuracy: 0.9619 - val_loss: 0.3223 - val_accuracy: 0.9122\n",
      "Epoch 186/300\n",
      "46/46 [==============================] - 10s 219ms/step - loss: 0.0954 - accuracy: 0.9670 - val_loss: 0.3291 - val_accuracy: 0.9142\n",
      "Epoch 187/300\n",
      "46/46 [==============================] - 10s 218ms/step - loss: 0.1248 - accuracy: 0.9536 - val_loss: 0.3644 - val_accuracy: 0.9055\n",
      "Epoch 188/300\n",
      "46/46 [==============================] - 10s 216ms/step - loss: 0.1129 - accuracy: 0.9612 - val_loss: 0.3487 - val_accuracy: 0.9176\n",
      "Epoch 189/300\n",
      "46/46 [==============================] - 10s 218ms/step - loss: 0.1105 - accuracy: 0.9605 - val_loss: 0.3758 - val_accuracy: 0.9068\n",
      "Epoch 190/300\n",
      "46/46 [==============================] - 10s 216ms/step - loss: 0.1137 - accuracy: 0.9613 - val_loss: 0.3516 - val_accuracy: 0.9115\n",
      "Epoch 191/300\n",
      "46/46 [==============================] - 10s 217ms/step - loss: 0.1121 - accuracy: 0.9603 - val_loss: 0.3622 - val_accuracy: 0.9068\n",
      "Epoch 192/300\n",
      "46/46 [==============================] - 10s 218ms/step - loss: 0.1148 - accuracy: 0.9581 - val_loss: 0.3538 - val_accuracy: 0.9122\n",
      "Epoch 193/300\n",
      "46/46 [==============================] - 10s 216ms/step - loss: 0.1088 - accuracy: 0.9619 - val_loss: 0.3494 - val_accuracy: 0.9095\n",
      "Epoch 194/300\n",
      "46/46 [==============================] - 10s 223ms/step - loss: 0.1076 - accuracy: 0.9607 - val_loss: 0.3389 - val_accuracy: 0.9190\n",
      "Epoch 195/300\n",
      "46/46 [==============================] - 10s 221ms/step - loss: 0.1124 - accuracy: 0.9605 - val_loss: 0.3696 - val_accuracy: 0.9109\n",
      "Epoch 196/300\n",
      "46/46 [==============================] - 10s 219ms/step - loss: 0.1092 - accuracy: 0.9622 - val_loss: 0.3580 - val_accuracy: 0.9142\n",
      "Epoch 197/300\n",
      "46/46 [==============================] - 10s 222ms/step - loss: 0.1099 - accuracy: 0.9601 - val_loss: 0.3178 - val_accuracy: 0.9183\n",
      "Epoch 198/300\n",
      "46/46 [==============================] - 10s 223ms/step - loss: 0.1034 - accuracy: 0.9625 - val_loss: 0.4065 - val_accuracy: 0.9034\n",
      "Epoch 199/300\n",
      "46/46 [==============================] - 10s 224ms/step - loss: 0.1102 - accuracy: 0.9586 - val_loss: 0.3476 - val_accuracy: 0.9203\n",
      "Epoch 200/300\n",
      "46/46 [==============================] - 10s 221ms/step - loss: 0.1060 - accuracy: 0.9622 - val_loss: 0.3440 - val_accuracy: 0.9223\n",
      "Epoch 201/300\n",
      "46/46 [==============================] - 10s 220ms/step - loss: 0.1078 - accuracy: 0.9619 - val_loss: 0.3524 - val_accuracy: 0.9169\n",
      "Epoch 202/300\n",
      "46/46 [==============================] - 10s 222ms/step - loss: 0.1008 - accuracy: 0.9644 - val_loss: 0.3260 - val_accuracy: 0.9230\n",
      "Epoch 203/300\n",
      "46/46 [==============================] - 10s 223ms/step - loss: 0.1119 - accuracy: 0.9595 - val_loss: 0.3365 - val_accuracy: 0.9196\n",
      "Epoch 204/300\n",
      "46/46 [==============================] - 10s 220ms/step - loss: 0.1087 - accuracy: 0.9622 - val_loss: 0.3540 - val_accuracy: 0.9129\n",
      "Epoch 205/300\n",
      "46/46 [==============================] - 10s 228ms/step - loss: 0.1076 - accuracy: 0.9617 - val_loss: 0.3451 - val_accuracy: 0.9176\n",
      "Epoch 206/300\n",
      "46/46 [==============================] - 10s 223ms/step - loss: 0.1067 - accuracy: 0.9632 - val_loss: 0.3649 - val_accuracy: 0.9169\n",
      "Epoch 207/300\n",
      "46/46 [==============================] - 10s 220ms/step - loss: 0.1041 - accuracy: 0.9634 - val_loss: 0.3476 - val_accuracy: 0.9142\n",
      "Epoch 208/300\n",
      "46/46 [==============================] - 10s 224ms/step - loss: 0.1023 - accuracy: 0.9617 - val_loss: 0.4030 - val_accuracy: 0.9095\n",
      "Epoch 209/300\n",
      "46/46 [==============================] - 10s 221ms/step - loss: 0.1078 - accuracy: 0.9625 - val_loss: 0.3326 - val_accuracy: 0.9203\n",
      "Epoch 210/300\n",
      "46/46 [==============================] - 10s 219ms/step - loss: 0.0998 - accuracy: 0.9639 - val_loss: 0.3505 - val_accuracy: 0.9122\n",
      "Epoch 211/300\n",
      "46/46 [==============================] - 10s 222ms/step - loss: 0.1014 - accuracy: 0.9636 - val_loss: 0.3705 - val_accuracy: 0.9075\n",
      "Epoch 212/300\n",
      "46/46 [==============================] - 10s 219ms/step - loss: 0.0993 - accuracy: 0.9660 - val_loss: 0.3288 - val_accuracy: 0.9203\n",
      "Epoch 213/300\n",
      "46/46 [==============================] - 10s 221ms/step - loss: 0.0995 - accuracy: 0.9625 - val_loss: 0.3632 - val_accuracy: 0.9109\n",
      "Epoch 214/300\n",
      "46/46 [==============================] - 10s 221ms/step - loss: 0.0997 - accuracy: 0.9617 - val_loss: 0.3354 - val_accuracy: 0.9176\n",
      "Epoch 215/300\n",
      "46/46 [==============================] - 10s 220ms/step - loss: 0.1064 - accuracy: 0.9627 - val_loss: 0.3545 - val_accuracy: 0.9102\n",
      "Epoch 216/300\n",
      "46/46 [==============================] - 10s 225ms/step - loss: 0.1115 - accuracy: 0.9608 - val_loss: 0.3602 - val_accuracy: 0.9095\n",
      "Epoch 217/300\n",
      "46/46 [==============================] - 10s 222ms/step - loss: 0.1020 - accuracy: 0.9634 - val_loss: 0.3724 - val_accuracy: 0.8974\n",
      "Epoch 218/300\n",
      "46/46 [==============================] - 10s 219ms/step - loss: 0.1028 - accuracy: 0.9624 - val_loss: 0.3703 - val_accuracy: 0.9082\n",
      "Epoch 219/300\n",
      "46/46 [==============================] - 10s 220ms/step - loss: 0.0996 - accuracy: 0.9649 - val_loss: 0.3658 - val_accuracy: 0.9102\n",
      "Epoch 220/300\n",
      "46/46 [==============================] - 10s 220ms/step - loss: 0.0999 - accuracy: 0.9656 - val_loss: 0.3341 - val_accuracy: 0.9136\n",
      "Epoch 221/300\n",
      "46/46 [==============================] - 10s 220ms/step - loss: 0.1073 - accuracy: 0.9632 - val_loss: 0.3750 - val_accuracy: 0.9115\n",
      "Epoch 222/300\n",
      "46/46 [==============================] - 10s 223ms/step - loss: 0.1073 - accuracy: 0.9619 - val_loss: 0.3520 - val_accuracy: 0.9115\n",
      "Epoch 223/300\n",
      "46/46 [==============================] - 10s 220ms/step - loss: 0.1024 - accuracy: 0.9654 - val_loss: 0.3349 - val_accuracy: 0.9190\n",
      "Epoch 224/300\n",
      "46/46 [==============================] - 10s 220ms/step - loss: 0.0992 - accuracy: 0.9660 - val_loss: 0.4073 - val_accuracy: 0.9068\n",
      "Epoch 225/300\n"
     ]
    },
    {
     "name": "stdout",
     "output_type": "stream",
     "text": [
      "46/46 [==============================] - 10s 221ms/step - loss: 0.0969 - accuracy: 0.9670 - val_loss: 0.3743 - val_accuracy: 0.9041\n",
      "Epoch 226/300\n",
      "46/46 [==============================] - 10s 219ms/step - loss: 0.1015 - accuracy: 0.9646 - val_loss: 0.3270 - val_accuracy: 0.9196\n",
      "Epoch 227/300\n",
      "46/46 [==============================] - 10s 221ms/step - loss: 0.1074 - accuracy: 0.9601 - val_loss: 0.3755 - val_accuracy: 0.9122\n",
      "Epoch 228/300\n",
      "46/46 [==============================] - 10s 221ms/step - loss: 0.1109 - accuracy: 0.9577 - val_loss: 0.3220 - val_accuracy: 0.9176\n",
      "Epoch 229/300\n",
      "46/46 [==============================] - 10s 220ms/step - loss: 0.1089 - accuracy: 0.9629 - val_loss: 0.3139 - val_accuracy: 0.9196\n",
      "Epoch 230/300\n",
      "46/46 [==============================] - 10s 222ms/step - loss: 0.0916 - accuracy: 0.9673 - val_loss: 0.3602 - val_accuracy: 0.9169\n",
      "Epoch 231/300\n",
      "46/46 [==============================] - 10s 219ms/step - loss: 0.0988 - accuracy: 0.9648 - val_loss: 0.3350 - val_accuracy: 0.9190\n",
      "Epoch 232/300\n",
      "46/46 [==============================] - 10s 219ms/step - loss: 0.0964 - accuracy: 0.9639 - val_loss: 0.3540 - val_accuracy: 0.9217\n",
      "Epoch 233/300\n",
      "46/46 [==============================] - 10s 222ms/step - loss: 0.0926 - accuracy: 0.9673 - val_loss: 0.3457 - val_accuracy: 0.9176\n",
      "Epoch 234/300\n",
      "46/46 [==============================] - 10s 218ms/step - loss: 0.0978 - accuracy: 0.9642 - val_loss: 0.3680 - val_accuracy: 0.9183\n",
      "Epoch 235/300\n",
      "46/46 [==============================] - 10s 221ms/step - loss: 0.1021 - accuracy: 0.9639 - val_loss: 0.3578 - val_accuracy: 0.9210\n",
      "Epoch 236/300\n",
      "46/46 [==============================] - 10s 222ms/step - loss: 0.0886 - accuracy: 0.9670 - val_loss: 0.3433 - val_accuracy: 0.9230\n",
      "Epoch 237/300\n",
      "46/46 [==============================] - 10s 219ms/step - loss: 0.1022 - accuracy: 0.9634 - val_loss: 0.3413 - val_accuracy: 0.9284\n",
      "Epoch 238/300\n",
      "46/46 [==============================] - 10s 222ms/step - loss: 0.0985 - accuracy: 0.9658 - val_loss: 0.3419 - val_accuracy: 0.9230\n",
      "Epoch 239/300\n",
      "46/46 [==============================] - 10s 221ms/step - loss: 0.0975 - accuracy: 0.9673 - val_loss: 0.3618 - val_accuracy: 0.9115\n",
      "Epoch 240/300\n",
      "46/46 [==============================] - 10s 219ms/step - loss: 0.0883 - accuracy: 0.9687 - val_loss: 0.3661 - val_accuracy: 0.9149\n",
      "Epoch 241/300\n",
      "46/46 [==============================] - 10s 221ms/step - loss: 0.0915 - accuracy: 0.9685 - val_loss: 0.3723 - val_accuracy: 0.9223\n",
      "Epoch 242/300\n",
      "46/46 [==============================] - 10s 220ms/step - loss: 0.0912 - accuracy: 0.9694 - val_loss: 0.3627 - val_accuracy: 0.9156\n",
      "Epoch 243/300\n",
      "46/46 [==============================] - 10s 221ms/step - loss: 0.0919 - accuracy: 0.9687 - val_loss: 0.3370 - val_accuracy: 0.9223\n",
      "Epoch 244/300\n",
      "46/46 [==============================] - 10s 222ms/step - loss: 0.0925 - accuracy: 0.9672 - val_loss: 0.3889 - val_accuracy: 0.9082\n",
      "Epoch 245/300\n",
      "46/46 [==============================] - 10s 219ms/step - loss: 0.0994 - accuracy: 0.9649 - val_loss: 0.3543 - val_accuracy: 0.9169\n",
      "Epoch 246/300\n",
      "46/46 [==============================] - 10s 221ms/step - loss: 0.0981 - accuracy: 0.9658 - val_loss: 0.3599 - val_accuracy: 0.9163\n",
      "Epoch 247/300\n",
      "46/46 [==============================] - 10s 221ms/step - loss: 0.0956 - accuracy: 0.9653 - val_loss: 0.3631 - val_accuracy: 0.9156\n",
      "Epoch 248/300\n",
      "46/46 [==============================] - 10s 218ms/step - loss: 0.0885 - accuracy: 0.9673 - val_loss: 0.3662 - val_accuracy: 0.9129\n",
      "Epoch 249/300\n",
      "46/46 [==============================] - 10s 221ms/step - loss: 0.0956 - accuracy: 0.9653 - val_loss: 0.4363 - val_accuracy: 0.9075\n",
      "Epoch 250/300\n",
      "46/46 [==============================] - 10s 220ms/step - loss: 0.0891 - accuracy: 0.9673 - val_loss: 0.3792 - val_accuracy: 0.9190\n",
      "Epoch 251/300\n",
      "46/46 [==============================] - 10s 219ms/step - loss: 0.0848 - accuracy: 0.9692 - val_loss: 0.3425 - val_accuracy: 0.9223\n",
      "Epoch 252/300\n",
      "46/46 [==============================] - 10s 220ms/step - loss: 0.0982 - accuracy: 0.9636 - val_loss: 0.3403 - val_accuracy: 0.9196\n",
      "Epoch 253/300\n",
      "46/46 [==============================] - 10s 219ms/step - loss: 0.0888 - accuracy: 0.9654 - val_loss: 0.3697 - val_accuracy: 0.9203\n",
      "Epoch 254/300\n",
      "46/46 [==============================] - 10s 223ms/step - loss: 0.0942 - accuracy: 0.9648 - val_loss: 0.4521 - val_accuracy: 0.9001\n",
      "Epoch 255/300\n",
      "46/46 [==============================] - 10s 225ms/step - loss: 0.1020 - accuracy: 0.9653 - val_loss: 0.3370 - val_accuracy: 0.9223\n",
      "Epoch 256/300\n",
      "46/46 [==============================] - 10s 226ms/step - loss: 0.0907 - accuracy: 0.9689 - val_loss: 0.3630 - val_accuracy: 0.9223\n",
      "Epoch 257/300\n",
      "46/46 [==============================] - 10s 227ms/step - loss: 0.0933 - accuracy: 0.9687 - val_loss: 0.3610 - val_accuracy: 0.9217\n",
      "Epoch 258/300\n",
      "46/46 [==============================] - 10s 226ms/step - loss: 0.0852 - accuracy: 0.9687 - val_loss: 0.3634 - val_accuracy: 0.9203\n",
      "Epoch 259/300\n",
      "46/46 [==============================] - 10s 224ms/step - loss: 0.0958 - accuracy: 0.9668 - val_loss: 0.3683 - val_accuracy: 0.9217\n",
      "Epoch 260/300\n",
      "46/46 [==============================] - 10s 225ms/step - loss: 0.0945 - accuracy: 0.9653 - val_loss: 0.3838 - val_accuracy: 0.9163\n",
      "Epoch 261/300\n",
      "46/46 [==============================] - 10s 222ms/step - loss: 0.0882 - accuracy: 0.9716 - val_loss: 0.3321 - val_accuracy: 0.9264\n",
      "Epoch 262/300\n",
      "46/46 [==============================] - 10s 220ms/step - loss: 0.0847 - accuracy: 0.9702 - val_loss: 0.3581 - val_accuracy: 0.9217\n",
      "Epoch 263/300\n",
      "46/46 [==============================] - 10s 222ms/step - loss: 0.0844 - accuracy: 0.9675 - val_loss: 0.3559 - val_accuracy: 0.9237\n",
      "Epoch 264/300\n",
      "46/46 [==============================] - 10s 224ms/step - loss: 0.0938 - accuracy: 0.9677 - val_loss: 0.3373 - val_accuracy: 0.9176\n",
      "Epoch 265/300\n",
      "46/46 [==============================] - 10s 221ms/step - loss: 0.0967 - accuracy: 0.9694 - val_loss: 0.3772 - val_accuracy: 0.9122\n",
      "Epoch 266/300\n",
      "46/46 [==============================] - 10s 221ms/step - loss: 0.0786 - accuracy: 0.9733 - val_loss: 0.3763 - val_accuracy: 0.9176\n",
      "Epoch 267/300\n",
      "46/46 [==============================] - 10s 219ms/step - loss: 0.0830 - accuracy: 0.9713 - val_loss: 0.3702 - val_accuracy: 0.9176\n",
      "Epoch 268/300\n",
      "46/46 [==============================] - 10s 220ms/step - loss: 0.0850 - accuracy: 0.9702 - val_loss: 0.3384 - val_accuracy: 0.9257\n",
      "Epoch 269/300\n",
      "46/46 [==============================] - 10s 225ms/step - loss: 0.0995 - accuracy: 0.9658 - val_loss: 0.3328 - val_accuracy: 0.9257\n",
      "Epoch 270/300\n",
      "46/46 [==============================] - 10s 221ms/step - loss: 0.0861 - accuracy: 0.9714 - val_loss: 0.3452 - val_accuracy: 0.9257\n",
      "Epoch 271/300\n",
      "46/46 [==============================] - 10s 221ms/step - loss: 0.0891 - accuracy: 0.9673 - val_loss: 0.3630 - val_accuracy: 0.9183\n",
      "Epoch 272/300\n",
      "46/46 [==============================] - 10s 223ms/step - loss: 0.0836 - accuracy: 0.9699 - val_loss: 0.3790 - val_accuracy: 0.9163\n",
      "Epoch 273/300\n",
      "46/46 [==============================] - 10s 223ms/step - loss: 0.0823 - accuracy: 0.9714 - val_loss: 0.3702 - val_accuracy: 0.9190\n",
      "Epoch 274/300\n",
      "46/46 [==============================] - 10s 223ms/step - loss: 0.0796 - accuracy: 0.9723 - val_loss: 0.4267 - val_accuracy: 0.9088\n",
      "Epoch 275/300\n",
      "46/46 [==============================] - 10s 223ms/step - loss: 0.0774 - accuracy: 0.9735 - val_loss: 0.3617 - val_accuracy: 0.9176\n",
      "Epoch 276/300\n",
      "46/46 [==============================] - 10s 222ms/step - loss: 0.0811 - accuracy: 0.9707 - val_loss: 0.3834 - val_accuracy: 0.9156\n",
      "Epoch 277/300\n",
      "46/46 [==============================] - 10s 223ms/step - loss: 0.0934 - accuracy: 0.9656 - val_loss: 0.3935 - val_accuracy: 0.9115\n",
      "Epoch 278/300\n",
      "46/46 [==============================] - 10s 220ms/step - loss: 0.0771 - accuracy: 0.9728 - val_loss: 0.3704 - val_accuracy: 0.9223\n",
      "Epoch 279/300\n",
      "46/46 [==============================] - 10s 222ms/step - loss: 0.0737 - accuracy: 0.9749 - val_loss: 0.4026 - val_accuracy: 0.9129\n",
      "Epoch 280/300\n",
      "46/46 [==============================] - 10s 222ms/step - loss: 0.0874 - accuracy: 0.9694 - val_loss: 0.3756 - val_accuracy: 0.9230\n",
      "Epoch 281/300\n"
     ]
    },
    {
     "name": "stdout",
     "output_type": "stream",
     "text": [
      "46/46 [==============================] - 10s 220ms/step - loss: 0.0882 - accuracy: 0.9701 - val_loss: 0.3749 - val_accuracy: 0.9183\n",
      "Epoch 282/300\n",
      "46/46 [==============================] - 10s 222ms/step - loss: 0.0863 - accuracy: 0.9690 - val_loss: 0.4024 - val_accuracy: 0.9169\n",
      "Epoch 283/300\n",
      "46/46 [==============================] - 10s 222ms/step - loss: 0.0781 - accuracy: 0.9740 - val_loss: 0.3660 - val_accuracy: 0.9217\n",
      "Epoch 284/300\n",
      "46/46 [==============================] - 10s 218ms/step - loss: 0.0887 - accuracy: 0.9690 - val_loss: 0.3689 - val_accuracy: 0.9149\n",
      "Epoch 285/300\n",
      "46/46 [==============================] - 10s 222ms/step - loss: 0.0709 - accuracy: 0.9735 - val_loss: 0.3664 - val_accuracy: 0.9223\n",
      "Epoch 286/300\n",
      "46/46 [==============================] - 10s 220ms/step - loss: 0.0816 - accuracy: 0.9709 - val_loss: 0.4066 - val_accuracy: 0.9136\n",
      "Epoch 287/300\n",
      "46/46 [==============================] - 10s 221ms/step - loss: 0.0897 - accuracy: 0.9656 - val_loss: 0.3514 - val_accuracy: 0.9223\n",
      "Epoch 288/300\n",
      "46/46 [==============================] - 10s 223ms/step - loss: 0.0834 - accuracy: 0.9704 - val_loss: 0.3989 - val_accuracy: 0.9129\n",
      "Epoch 289/300\n",
      "46/46 [==============================] - 10s 220ms/step - loss: 0.0798 - accuracy: 0.9737 - val_loss: 0.3949 - val_accuracy: 0.9163\n",
      "Epoch 290/300\n",
      "46/46 [==============================] - 10s 221ms/step - loss: 0.0887 - accuracy: 0.9684 - val_loss: 0.3762 - val_accuracy: 0.9190\n",
      "Epoch 291/300\n",
      "46/46 [==============================] - 10s 220ms/step - loss: 0.0819 - accuracy: 0.9723 - val_loss: 0.3351 - val_accuracy: 0.9230\n",
      "Epoch 292/300\n",
      "46/46 [==============================] - 10s 219ms/step - loss: 0.0833 - accuracy: 0.9690 - val_loss: 0.3684 - val_accuracy: 0.9149\n",
      "Epoch 293/300\n",
      "46/46 [==============================] - 10s 219ms/step - loss: 0.0869 - accuracy: 0.9696 - val_loss: 0.3556 - val_accuracy: 0.9271\n",
      "Epoch 294/300\n",
      "46/46 [==============================] - 10s 220ms/step - loss: 0.0792 - accuracy: 0.9711 - val_loss: 0.3698 - val_accuracy: 0.9203\n",
      "Epoch 295/300\n",
      "46/46 [==============================] - 10s 217ms/step - loss: 0.0806 - accuracy: 0.9728 - val_loss: 0.4112 - val_accuracy: 0.9136\n",
      "Epoch 296/300\n",
      "46/46 [==============================] - 10s 222ms/step - loss: 0.0713 - accuracy: 0.9716 - val_loss: 0.4164 - val_accuracy: 0.9196\n",
      "Epoch 297/300\n",
      "46/46 [==============================] - 10s 221ms/step - loss: 0.0888 - accuracy: 0.9687 - val_loss: 0.3841 - val_accuracy: 0.9237\n",
      "Epoch 298/300\n",
      "46/46 [==============================] - 10s 221ms/step - loss: 0.0821 - accuracy: 0.9702 - val_loss: 0.3423 - val_accuracy: 0.9237\n",
      "Epoch 299/300\n",
      "46/46 [==============================] - 10s 222ms/step - loss: 0.0764 - accuracy: 0.9740 - val_loss: 0.3744 - val_accuracy: 0.9176\n",
      "Epoch 300/300\n",
      "46/46 [==============================] - 10s 218ms/step - loss: 0.0859 - accuracy: 0.9721 - val_loss: 0.3952 - val_accuracy: 0.9082\n"
     ]
    }
   ],
   "source": [
    "history = model.fit(X_train, Y_train1,\n",
    "              batch_size=128,\n",
    "              epochs=300,\n",
    "              validation_data=(X_test, Y_test1),\n",
    "              shuffle=True)"
   ]
  },
  {
   "cell_type": "code",
   "execution_count": 70,
   "id": "e50a00e0",
   "metadata": {},
   "outputs": [
    {
     "data": {
      "text/plain": [
       "Text(0.5, 1.0, 'Accuracy Curves')"
      ]
     },
     "execution_count": 70,
     "metadata": {},
     "output_type": "execute_result"
    },
    {
     "data": {
      "image/png": "[encoded data removed]",
      "text/plain": [
       "<Figure size 1008x720 with 1 Axes>"
      ]
     },
     "metadata": {
      "needs_background": "light"
     },
     "output_type": "display_data"
    },
    {
     "data": {
      "image/png": "[encoded data removed]",
      "text/plain": [
       "<Figure size 1008x720 with 1 Axes>"
      ]
     },
     "metadata": {
      "needs_background": "light"
     },
     "output_type": "display_data"
    }
   ],
   "source": [
    "plt.figure(figsize=[14,10])\n",
    "plt.subplot(211)\n",
    "plt.plot(history.history['loss'],'r',linewidth=3.0)\n",
    "plt.plot(history.history['val_loss'],'b',linewidth=3.0)\n",
    "plt.legend(['Training loss', 'Validation Loss'],fontsize=18)\n",
    "plt.xlabel('Epochs ',fontsize=16)\n",
    "plt.ylabel('Loss',fontsize=16)\n",
    "plt.title('Loss Curves',fontsize=16)\n",
    " \n",
    "# Accuracy Curves\n",
    "plt.figure(figsize=[14,10])\n",
    "plt.subplot(212)\n",
    "plt.plot(history.history['accuracy'],'r',linewidth=3.0)\n",
    "plt.plot(history.history['val_accuracy'],'b',linewidth=3.0)\n",
    "plt.legend(['Training Accuracy', 'Validation Accuracy'],fontsize=18)\n",
    "plt.xlabel('Epochs ',fontsize=16)\n",
    "plt.ylabel('Accuracy',fontsize=16)\n",
    "plt.title('Accuracy Curves',fontsize=16)"
   ]
  },
  {
   "cell_type": "code",
   "execution_count": 71,
   "id": "f64f7358",
   "metadata": {},
   "outputs": [
    {
     "name": "stdout",
     "output_type": "stream",
     "text": [
      "Saved trained model at urban_classification.h5 \n"
     ]
    }
   ],
   "source": [
    "model_name = \"urban_classification.h5\"\n",
    "model.save(model_name)\n",
    "print('Saved trained model at %s ' % model_name)"
   ]
  },
  {
   "cell_type": "code",
   "execution_count": 72,
   "id": "a095e4b9",
   "metadata": {},
   "outputs": [
    {
     "name": "stdout",
     "output_type": "stream",
     "text": [
      "47/47 [==============================] - 1s 11ms/step\n"
     ]
    }
   ],
   "source": [
    "# verbose : 학습 과정에서 진행 내용을 출력하기 위한 모드를 설정\n",
    "# 0은 출력 안함, 1은 진행바로 출력, 2는 각 epoch마다 한 줄씩 출력하라는 의미\n",
    "predictions = model.predict(X_test, verbose=1)"
   ]
  },
  {
   "cell_type": "code",
   "execution_count": 73,
   "id": "cf2a2251",
   "metadata": {},
   "outputs": [
    {
     "name": "stdout",
     "output_type": "stream",
     "text": [
      "7\n",
      "7\n"
     ]
    }
   ],
   "source": [
    "# argmax : 다차원 배열의 경우에 차원에 따라 가장 큰 값의 인덱스들을 반환해주는 함수\n",
    "print(np.argmax(predictions[0]))\n",
    "print(Y_test[0])"
   ]
  },
  {
   "cell_type": "code",
   "execution_count": 74,
   "id": "b50244eb",
   "metadata": {},
   "outputs": [
    {
     "name": "stdout",
     "output_type": "stream",
     "text": [
      "47/47 [==============================] - 1s 12ms/step - loss: 0.3952 - accuracy: 0.9082\n",
      "Test loss: 0.39518043398857117\n",
      "Test accuracy: 0.9081701636314392\n"
     ]
    }
   ],
   "source": [
    "scores = model.evaluate(X_test, Y_test1, verbose=1)\n",
    "print('Test loss:', scores[0])\n",
    "print('Test accuracy:', scores[1])"
   ]
  },
  {
   "cell_type": "code",
   "execution_count": 75,
   "id": "406435cb",
   "metadata": {},
   "outputs": [
    {
     "name": "stdout",
     "output_type": "stream",
     "text": [
      "(5846, 40, 173, 1)\n"
     ]
    }
   ],
   "source": [
    "print(X_train.shape)"
   ]
  },
  {
   "cell_type": "code",
   "execution_count": 76,
   "id": "d617d283",
   "metadata": {},
   "outputs": [],
   "source": [
    "X_train2 = X_train.reshape(X_train.shape[0], X_train.shape[1], X_train.shape[2])\n",
    "X_test2 = X_test.reshape(X_test.shape[0], X_test.shape[1], X_test.shape[2])\n",
    "Y_train3 = to_categorical(Y_train)\n",
    "Y_test3 = to_categorical(Y_test)"
   ]
  },
  {
   "cell_type": "code",
   "execution_count": 77,
   "id": "571d229d",
   "metadata": {},
   "outputs": [
    {
     "name": "stdout",
     "output_type": "stream",
     "text": [
      "Model: \"sequential_1\"\n",
      "_________________________________________________________________\n",
      "Layer (type)                 Output Shape              Param #   \n",
      "=================================================================\n",
      "gru (GRU)                    (None, 1025)              3690000   \n",
      "_________________________________________________________________\n",
      "dense_1 (Dense)              (None, 512)               525312    \n",
      "_________________________________________________________________\n",
      "dense_2 (Dense)              (None, 128)               65664     \n",
      "_________________________________________________________________\n",
      "dense_3 (Dense)              (None, 10)                1290      \n",
      "=================================================================\n",
      "Total params: 4,282,266\n",
      "Trainable params: 4,282,266\n",
      "Non-trainable params: 0\n",
      "_________________________________________________________________\n"
     ]
    }
   ],
   "source": [
    "import keras\n",
    "from keras.layers import GRU\n",
    "\n",
    "input_shape = (40, 173)\n",
    "\n",
    "model = keras.models.Sequential()\n",
    "model.add(GRU(1025, input_shape=input_shape))\n",
    "model.add(Dense(512, activation=\"relu\"))\n",
    "model.add(Dense(128, activation=\"relu\"))\n",
    "model.add(Dense(10, activation = \"softmax\"))\n",
    "model.compile(loss='categorical_crossentropy', metrics=['accuracy'], optimizer='adam')\n",
    "model.summary()"
   ]
  },
  {
   "cell_type": "code",
   "execution_count": 78,
   "id": "afbec020",
   "metadata": {},
   "outputs": [
    {
     "name": "stdout",
     "output_type": "stream",
     "text": [
      "Epoch 1/100\n",
      "34/34 [==============================] - 36s 1s/step - loss: 1.8002 - accuracy: 0.3103 - val_loss: 1.5294 - val_accuracy: 0.4153\n",
      "Epoch 2/100\n",
      "34/34 [==============================] - 35s 1s/step - loss: 1.0791 - accuracy: 0.6185 - val_loss: 1.4864 - val_accuracy: 0.4564\n",
      "Epoch 3/100\n",
      "34/34 [==============================] - 35s 1s/step - loss: 0.6128 - accuracy: 0.8026 - val_loss: 1.5211 - val_accuracy: 0.5017\n",
      "Epoch 4/100\n",
      "34/34 [==============================] - 36s 1s/step - loss: 0.2505 - accuracy: 0.9317 - val_loss: 1.8139 - val_accuracy: 0.4801\n",
      "Epoch 5/100\n",
      "34/34 [==============================] - 36s 1s/step - loss: 0.1018 - accuracy: 0.9750 - val_loss: 2.0333 - val_accuracy: 0.4767\n",
      "Epoch 6/100\n",
      "34/34 [==============================] - 35s 1s/step - loss: 0.0547 - accuracy: 0.9853 - val_loss: 2.4310 - val_accuracy: 0.4659\n",
      "Epoch 7/100\n",
      "34/34 [==============================] - 35s 1s/step - loss: 0.0464 - accuracy: 0.9870 - val_loss: 2.2758 - val_accuracy: 0.4875\n",
      "Epoch 8/100\n",
      "34/34 [==============================] - 34s 995ms/step - loss: 0.0368 - accuracy: 0.9911 - val_loss: 2.3275 - val_accuracy: 0.4801\n",
      "Epoch 9/100\n",
      "34/34 [==============================] - 34s 998ms/step - loss: 0.0182 - accuracy: 0.9967 - val_loss: 2.3359 - val_accuracy: 0.5064\n",
      "Epoch 10/100\n",
      "34/34 [==============================] - 34s 1s/step - loss: 0.0099 - accuracy: 0.9986 - val_loss: 2.3741 - val_accuracy: 0.5084\n",
      "Epoch 11/100\n",
      "34/34 [==============================] - 34s 1s/step - loss: 0.0150 - accuracy: 0.9956 - val_loss: 2.5402 - val_accuracy: 0.4929\n",
      "Epoch 12/100\n",
      "34/34 [==============================] - 34s 990ms/step - loss: 0.0164 - accuracy: 0.9956 - val_loss: 2.4674 - val_accuracy: 0.5010\n",
      "Epoch 13/100\n",
      "34/34 [==============================] - 34s 1s/step - loss: 0.0101 - accuracy: 0.9981 - val_loss: 2.6413 - val_accuracy: 0.4943\n",
      "Epoch 14/100\n",
      "34/34 [==============================] - 34s 995ms/step - loss: 0.0317 - accuracy: 0.9901 - val_loss: 3.0094 - val_accuracy: 0.4808\n",
      "Epoch 15/100\n",
      "34/34 [==============================] - 34s 1s/step - loss: 0.3050 - accuracy: 0.8970 - val_loss: 2.4392 - val_accuracy: 0.4510\n",
      "Epoch 16/100\n",
      "34/34 [==============================] - 34s 992ms/step - loss: 0.2798 - accuracy: 0.9052 - val_loss: 2.3445 - val_accuracy: 0.4902\n",
      "Epoch 17/100\n",
      "34/34 [==============================] - 34s 991ms/step - loss: 0.1064 - accuracy: 0.9636 - val_loss: 2.4119 - val_accuracy: 0.4922\n",
      "Epoch 18/100\n",
      "34/34 [==============================] - 34s 992ms/step - loss: 0.0380 - accuracy: 0.9889 - val_loss: 2.5849 - val_accuracy: 0.4916\n",
      "Epoch 19/100\n",
      "34/34 [==============================] - 34s 990ms/step - loss: 0.0366 - accuracy: 0.9882 - val_loss: 2.8001 - val_accuracy: 0.4916\n",
      "Epoch 20/100\n",
      "34/34 [==============================] - 34s 998ms/step - loss: 0.0232 - accuracy: 0.9937 - val_loss: 2.7421 - val_accuracy: 0.4983\n",
      "Epoch 21/100\n",
      "34/34 [==============================] - 34s 1s/step - loss: 0.0106 - accuracy: 0.9973 - val_loss: 2.7110 - val_accuracy: 0.5030\n",
      "Epoch 22/100\n",
      "34/34 [==============================] - 34s 999ms/step - loss: 0.0044 - accuracy: 0.9991 - val_loss: 2.7452 - val_accuracy: 0.5084\n",
      "Epoch 23/100\n",
      "34/34 [==============================] - 34s 988ms/step - loss: 0.0021 - accuracy: 0.9995 - val_loss: 2.7405 - val_accuracy: 0.5165\n",
      "Epoch 24/100\n",
      "34/34 [==============================] - 34s 992ms/step - loss: 0.0011 - accuracy: 0.9997 - val_loss: 2.7267 - val_accuracy: 0.5152\n",
      "Epoch 25/100\n",
      "34/34 [==============================] - 34s 1s/step - loss: 0.0010 - accuracy: 0.9995 - val_loss: 2.7701 - val_accuracy: 0.5186\n",
      "Epoch 26/100\n",
      "34/34 [==============================] - 34s 1s/step - loss: 0.0017 - accuracy: 0.9993 - val_loss: 2.7389 - val_accuracy: 0.5172\n",
      "Epoch 27/100\n",
      "34/34 [==============================] - 34s 989ms/step - loss: 0.0013 - accuracy: 0.9995 - val_loss: 2.7733 - val_accuracy: 0.5206\n",
      "Epoch 28/100\n",
      "34/34 [==============================] - 34s 993ms/step - loss: 9.5979e-04 - accuracy: 0.9998 - val_loss: 2.7952 - val_accuracy: 0.5165\n",
      "Epoch 29/100\n",
      "34/34 [==============================] - 34s 994ms/step - loss: 6.5681e-04 - accuracy: 0.9997 - val_loss: 2.7768 - val_accuracy: 0.5192\n",
      "Epoch 30/100\n",
      "34/34 [==============================] - 34s 1s/step - loss: 7.7659e-04 - accuracy: 0.9998 - val_loss: 2.8174 - val_accuracy: 0.5186\n",
      "Epoch 31/100\n",
      "34/34 [==============================] - 34s 1s/step - loss: 4.3440e-04 - accuracy: 0.9997 - val_loss: 2.7925 - val_accuracy: 0.5165\n",
      "Epoch 32/100\n",
      "34/34 [==============================] - 33s 984ms/step - loss: 9.7113e-04 - accuracy: 0.9997 - val_loss: 2.8592 - val_accuracy: 0.5159\n",
      "Epoch 33/100\n",
      "34/34 [==============================] - 34s 990ms/step - loss: 9.3061e-04 - accuracy: 0.9995 - val_loss: 2.8051 - val_accuracy: 0.5152\n",
      "Epoch 34/100\n",
      "34/34 [==============================] - 34s 989ms/step - loss: 3.9683e-04 - accuracy: 0.9998 - val_loss: 2.8153 - val_accuracy: 0.5172\n",
      "Epoch 35/100\n",
      "34/34 [==============================] - 34s 994ms/step - loss: 3.6615e-04 - accuracy: 0.9998 - val_loss: 2.8449 - val_accuracy: 0.5199\n",
      "Epoch 36/100\n",
      "34/34 [==============================] - 34s 1s/step - loss: 4.8062e-04 - accuracy: 0.9997 - val_loss: 2.8284 - val_accuracy: 0.5165\n",
      "Epoch 37/100\n",
      "34/34 [==============================] - 34s 991ms/step - loss: 5.4202e-04 - accuracy: 0.9997 - val_loss: 2.8434 - val_accuracy: 0.5165\n",
      "Epoch 38/100\n",
      "34/34 [==============================] - 34s 992ms/step - loss: 7.7566e-04 - accuracy: 0.9995 - val_loss: 2.8497 - val_accuracy: 0.5206\n",
      "Epoch 39/100\n",
      "34/34 [==============================] - 34s 992ms/step - loss: 1.8921e-04 - accuracy: 1.0000 - val_loss: 2.8568 - val_accuracy: 0.5199\n",
      "Epoch 40/100\n",
      "34/34 [==============================] - 34s 1s/step - loss: 3.1370e-04 - accuracy: 1.0000 - val_loss: 2.8656 - val_accuracy: 0.5213\n",
      "Epoch 41/100\n",
      "34/34 [==============================] - 34s 1s/step - loss: 1.0742e-04 - accuracy: 1.0000 - val_loss: 2.8826 - val_accuracy: 0.5206\n",
      "Epoch 42/100\n",
      "34/34 [==============================] - 34s 1s/step - loss: 6.7073e-05 - accuracy: 1.0000 - val_loss: 2.8858 - val_accuracy: 0.5199\n",
      "Epoch 43/100\n",
      "34/34 [==============================] - 34s 989ms/step - loss: 6.1385e-05 - accuracy: 1.0000 - val_loss: 2.8931 - val_accuracy: 0.5213\n",
      "Epoch 44/100\n",
      "34/34 [==============================] - 34s 991ms/step - loss: 5.5147e-05 - accuracy: 1.0000 - val_loss: 2.8983 - val_accuracy: 0.5206\n",
      "Epoch 45/100\n",
      "34/34 [==============================] - 34s 1s/step - loss: 5.1639e-05 - accuracy: 1.0000 - val_loss: 2.9040 - val_accuracy: 0.5192\n",
      "Epoch 46/100\n",
      "34/34 [==============================] - 34s 1s/step - loss: 4.8031e-05 - accuracy: 1.0000 - val_loss: 2.9093 - val_accuracy: 0.5186\n",
      "Epoch 47/100\n",
      "34/34 [==============================] - 34s 1s/step - loss: 4.5219e-05 - accuracy: 1.0000 - val_loss: 2.9159 - val_accuracy: 0.5186\n",
      "Epoch 48/100\n",
      "34/34 [==============================] - 35s 1s/step - loss: 4.3310e-05 - accuracy: 1.0000 - val_loss: 2.9220 - val_accuracy: 0.5186\n",
      "Epoch 49/100\n",
      "34/34 [==============================] - 34s 987ms/step - loss: 4.0896e-05 - accuracy: 1.0000 - val_loss: 2.9286 - val_accuracy: 0.5192\n",
      "Epoch 50/100\n",
      "34/34 [==============================] - 34s 993ms/step - loss: 3.9213e-05 - accuracy: 1.0000 - val_loss: 2.9339 - val_accuracy: 0.5186\n",
      "Epoch 51/100\n",
      "34/34 [==============================] - 34s 992ms/step - loss: 3.6454e-05 - accuracy: 1.0000 - val_loss: 2.9385 - val_accuracy: 0.5186\n",
      "Epoch 52/100\n",
      "34/34 [==============================] - 34s 991ms/step - loss: 3.5307e-05 - accuracy: 1.0000 - val_loss: 2.9440 - val_accuracy: 0.5192\n",
      "Epoch 53/100\n",
      "34/34 [==============================] - 34s 1s/step - loss: 3.3591e-05 - accuracy: 1.0000 - val_loss: 2.9483 - val_accuracy: 0.5186\n",
      "Epoch 54/100\n",
      "34/34 [==============================] - 34s 997ms/step - loss: 3.1467e-05 - accuracy: 1.0000 - val_loss: 2.9552 - val_accuracy: 0.5186\n",
      "Epoch 55/100\n",
      "34/34 [==============================] - 34s 991ms/step - loss: 3.0649e-05 - accuracy: 1.0000 - val_loss: 2.9602 - val_accuracy: 0.5199\n",
      "Epoch 56/100\n",
      "34/34 [==============================] - 34s 989ms/step - loss: 2.9195e-05 - accuracy: 1.0000 - val_loss: 2.9651 - val_accuracy: 0.5192\n",
      "Epoch 57/100\n"
     ]
    },
    {
     "name": "stdout",
     "output_type": "stream",
     "text": [
      "34/34 [==============================] - 34s 998ms/step - loss: 2.8001e-05 - accuracy: 1.0000 - val_loss: 2.9694 - val_accuracy: 0.5192\n",
      "Epoch 58/100\n",
      "34/34 [==============================] - 34s 1s/step - loss: 2.6506e-05 - accuracy: 1.0000 - val_loss: 2.9747 - val_accuracy: 0.5192\n",
      "Epoch 59/100\n",
      "34/34 [==============================] - 34s 1000ms/step - loss: 2.5801e-05 - accuracy: 1.0000 - val_loss: 2.9784 - val_accuracy: 0.5206\n",
      "Epoch 60/100\n",
      "34/34 [==============================] - 34s 999ms/step - loss: 2.4502e-05 - accuracy: 1.0000 - val_loss: 2.9839 - val_accuracy: 0.5199\n",
      "Epoch 61/100\n",
      "34/34 [==============================] - 34s 991ms/step - loss: 2.3508e-05 - accuracy: 1.0000 - val_loss: 2.9883 - val_accuracy: 0.5192\n",
      "Epoch 62/100\n",
      "34/34 [==============================] - 34s 994ms/step - loss: 2.2793e-05 - accuracy: 1.0000 - val_loss: 2.9925 - val_accuracy: 0.5192\n",
      "Epoch 63/100\n",
      "34/34 [==============================] - 34s 996ms/step - loss: 2.1944e-05 - accuracy: 1.0000 - val_loss: 2.9985 - val_accuracy: 0.5199\n",
      "Epoch 64/100\n",
      "34/34 [==============================] - 34s 1s/step - loss: 2.1268e-05 - accuracy: 1.0000 - val_loss: 3.0019 - val_accuracy: 0.5199\n",
      "Epoch 65/100\n",
      "34/34 [==============================] - 34s 1s/step - loss: 2.0388e-05 - accuracy: 1.0000 - val_loss: 3.0066 - val_accuracy: 0.5199\n",
      "Epoch 66/100\n",
      "34/34 [==============================] - 37s 1s/step - loss: 1.9621e-05 - accuracy: 1.0000 - val_loss: 3.0102 - val_accuracy: 0.5199\n",
      "Epoch 67/100\n",
      "34/34 [==============================] - 35s 1s/step - loss: 1.8883e-05 - accuracy: 1.0000 - val_loss: 3.0144 - val_accuracy: 0.5206\n",
      "Epoch 68/100\n",
      "34/34 [==============================] - 35s 1s/step - loss: 1.8237e-05 - accuracy: 1.0000 - val_loss: 3.0191 - val_accuracy: 0.5206\n",
      "Epoch 69/100\n",
      "34/34 [==============================] - 34s 1s/step - loss: 1.7703e-05 - accuracy: 1.0000 - val_loss: 3.0227 - val_accuracy: 0.5213\n",
      "Epoch 70/100\n",
      "34/34 [==============================] - 34s 1s/step - loss: 1.7154e-05 - accuracy: 1.0000 - val_loss: 3.0273 - val_accuracy: 0.5206\n",
      "Epoch 71/100\n",
      "34/34 [==============================] - 36s 1s/step - loss: 1.6768e-05 - accuracy: 1.0000 - val_loss: 3.0310 - val_accuracy: 0.5206\n",
      "Epoch 72/100\n",
      "34/34 [==============================] - 36s 1s/step - loss: 1.6078e-05 - accuracy: 1.0000 - val_loss: 3.0350 - val_accuracy: 0.5206\n",
      "Epoch 73/100\n",
      "34/34 [==============================] - 35s 1s/step - loss: 1.5515e-05 - accuracy: 1.0000 - val_loss: 3.0392 - val_accuracy: 0.5206\n",
      "Epoch 74/100\n",
      "34/34 [==============================] - 35s 1s/step - loss: 1.5121e-05 - accuracy: 1.0000 - val_loss: 3.0431 - val_accuracy: 0.5192\n",
      "Epoch 75/100\n",
      "34/34 [==============================] - 35s 1s/step - loss: 1.4648e-05 - accuracy: 1.0000 - val_loss: 3.0467 - val_accuracy: 0.5192\n",
      "Epoch 76/100\n",
      "34/34 [==============================] - 36s 1s/step - loss: 1.4226e-05 - accuracy: 1.0000 - val_loss: 3.0509 - val_accuracy: 0.5192\n",
      "Epoch 77/100\n",
      "34/34 [==============================] - 36s 1s/step - loss: 1.3868e-05 - accuracy: 1.0000 - val_loss: 3.0539 - val_accuracy: 0.5206\n",
      "Epoch 78/100\n",
      "34/34 [==============================] - 35s 1s/step - loss: 1.3314e-05 - accuracy: 1.0000 - val_loss: 3.0589 - val_accuracy: 0.5199\n",
      "Epoch 79/100\n",
      "34/34 [==============================] - 36s 1s/step - loss: 1.2973e-05 - accuracy: 1.0000 - val_loss: 3.0624 - val_accuracy: 0.5199\n",
      "Epoch 80/100\n",
      "34/34 [==============================] - 35s 1s/step - loss: 1.2629e-05 - accuracy: 1.0000 - val_loss: 3.0659 - val_accuracy: 0.5206\n",
      "Epoch 81/100\n",
      "34/34 [==============================] - 34s 1s/step - loss: 1.2253e-05 - accuracy: 1.0000 - val_loss: 3.0696 - val_accuracy: 0.5206\n",
      "Epoch 82/100\n",
      "34/34 [==============================] - 35s 1s/step - loss: 1.1844e-05 - accuracy: 1.0000 - val_loss: 3.0734 - val_accuracy: 0.5206\n",
      "Epoch 83/100\n",
      "34/34 [==============================] - 36s 1s/step - loss: 1.1524e-05 - accuracy: 1.0000 - val_loss: 3.0768 - val_accuracy: 0.5219\n",
      "Epoch 84/100\n",
      "34/34 [==============================] - 35s 1s/step - loss: 1.1198e-05 - accuracy: 1.0000 - val_loss: 3.0809 - val_accuracy: 0.5219\n",
      "Epoch 85/100\n",
      "34/34 [==============================] - 34s 1s/step - loss: 1.0904e-05 - accuracy: 1.0000 - val_loss: 3.0845 - val_accuracy: 0.5219\n",
      "Epoch 86/100\n",
      "34/34 [==============================] - 34s 1s/step - loss: 1.0572e-05 - accuracy: 1.0000 - val_loss: 3.0887 - val_accuracy: 0.5219\n",
      "Epoch 87/100\n",
      "34/34 [==============================] - 35s 1s/step - loss: 1.0344e-05 - accuracy: 1.0000 - val_loss: 3.0911 - val_accuracy: 0.5226\n",
      "Epoch 88/100\n",
      "34/34 [==============================] - 37s 1s/step - loss: 1.0067e-05 - accuracy: 1.0000 - val_loss: 3.0953 - val_accuracy: 0.5226\n",
      "Epoch 89/100\n",
      "34/34 [==============================] - 36s 1s/step - loss: 9.7668e-06 - accuracy: 1.0000 - val_loss: 3.0986 - val_accuracy: 0.5226\n",
      "Epoch 90/100\n",
      "34/34 [==============================] - 36s 1s/step - loss: 9.5070e-06 - accuracy: 1.0000 - val_loss: 3.1018 - val_accuracy: 0.5226\n",
      "Epoch 91/100\n",
      "34/34 [==============================] - 36s 1s/step - loss: 9.2079e-06 - accuracy: 1.0000 - val_loss: 3.1056 - val_accuracy: 0.5226\n",
      "Epoch 92/100\n",
      "34/34 [==============================] - 36s 1s/step - loss: 8.9982e-06 - accuracy: 1.0000 - val_loss: 3.1091 - val_accuracy: 0.5226\n",
      "Epoch 93/100\n",
      "34/34 [==============================] - 37s 1s/step - loss: 8.7575e-06 - accuracy: 1.0000 - val_loss: 3.1131 - val_accuracy: 0.5226\n",
      "Epoch 94/100\n",
      "34/34 [==============================] - 38s 1s/step - loss: 8.5561e-06 - accuracy: 1.0000 - val_loss: 3.1161 - val_accuracy: 0.5226\n",
      "Epoch 95/100\n",
      "34/34 [==============================] - 38s 1s/step - loss: 8.3276e-06 - accuracy: 1.0000 - val_loss: 3.1192 - val_accuracy: 0.5233\n",
      "Epoch 96/100\n",
      "34/34 [==============================] - 36s 1s/step - loss: 8.1099e-06 - accuracy: 1.0000 - val_loss: 3.1225 - val_accuracy: 0.5226\n",
      "Epoch 97/100\n",
      "34/34 [==============================] - 35s 1s/step - loss: 7.9082e-06 - accuracy: 1.0000 - val_loss: 3.1260 - val_accuracy: 0.5226\n",
      "Epoch 98/100\n",
      "34/34 [==============================] - 36s 1s/step - loss: 7.6972e-06 - accuracy: 1.0000 - val_loss: 3.1292 - val_accuracy: 0.5233\n",
      "Epoch 99/100\n",
      "34/34 [==============================] - 35s 1s/step - loss: 7.5209e-06 - accuracy: 1.0000 - val_loss: 3.1329 - val_accuracy: 0.5226\n",
      "Epoch 100/100\n",
      "34/34 [==============================] - 35s 1s/step - loss: 7.3254e-06 - accuracy: 1.0000 - val_loss: 3.1360 - val_accuracy: 0.5226\n"
     ]
    }
   ],
   "source": [
    "history = model.fit(X_train2, Y_train3,\n",
    "              batch_size=173,\n",
    "              epochs=100,\n",
    "              validation_data=(X_test2, Y_test3),\n",
    "              shuffle=True)"
   ]
  },
  {
   "cell_type": "code",
   "execution_count": 79,
   "id": "b8bb0e93",
   "metadata": {},
   "outputs": [
    {
     "data": {
      "text/plain": [
       "Text(0.5, 1.0, 'Accuracy Curves')"
      ]
     },
     "execution_count": 79,
     "metadata": {},
     "output_type": "execute_result"
    },
    {
     "data": {
      "image/png": "[encoded data removed]",
      "text/plain": [
       "<Figure size 1008x720 with 1 Axes>"
      ]
     },
     "metadata": {
      "needs_background": "light"
     },
     "output_type": "display_data"
    },
    {
     "data": {
      "image/png": "[encoded data removed]",
      "text/plain": [
       "<Figure size 1008x720 with 1 Axes>"
      ]
     },
     "metadata": {
      "needs_background": "light"
     },
     "output_type": "display_data"
    }
   ],
   "source": [
    "plt.figure(figsize=[14,10])\n",
    "plt.subplot(211)\n",
    "plt.plot(history.history['loss'],'r',linewidth=3.0)\n",
    "plt.plot(history.history['val_loss'],'b',linewidth=3.0)\n",
    "plt.legend(['Training loss', 'Validation Loss'],fontsize=18)\n",
    "plt.xlabel('Epochs ',fontsize=16)\n",
    "plt.ylabel('Loss',fontsize=16)\n",
    "plt.title('Loss Curves',fontsize=16)\n",
    " \n",
    "# Accuracy Curves\n",
    "plt.figure(figsize=[14,10])\n",
    "plt.subplot(212)\n",
    "plt.plot(history.history['accuracy'],'r',linewidth=3.0)\n",
    "plt.plot(history.history['val_accuracy'],'b',linewidth=3.0)\n",
    "plt.legend(['Training Accuracy', 'Validation Accuracy'],fontsize=18)\n",
    "plt.xlabel('Epochs ',fontsize=16)\n",
    "plt.ylabel('Accuracy',fontsize=16)\n",
    "plt.title('Accuracy Curves',fontsize=16)"
   ]
  },
  {
   "cell_type": "code",
   "execution_count": 80,
   "id": "45458b9a",
   "metadata": {},
   "outputs": [
    {
     "name": "stdout",
     "output_type": "stream",
     "text": [
      "47/47 [==============================] - 5s 102ms/step - loss: 3.1360 - accuracy: 0.5226\n",
      "Test loss: 3.1359870433807373\n",
      "Test accuracy: 0.5226198434829712\n"
     ]
    }
   ],
   "source": [
    "scores = model.evaluate(X_test2, Y_test3, verbose=1)\n",
    "print('Test loss:', scores[0])\n",
    "print('Test accuracy:', scores[1])"
   ]
  },
  {
   "cell_type": "code",
   "execution_count": null,
   "id": "89584c48",
   "metadata": {},
   "outputs": [],
   "source": []
  }
 ],
 "metadata": {
  "kernelspec": {
   "display_name": "Python 3",
   "language": "python",
   "name": "python3"
  },
  "language_info": {
   "codemirror_mode": {
    "name": "ipython",
    "version": 3
   },
   "file_extension": ".py",
   "mimetype": "text/x-python",
   "name": "python",
   "nbconvert_exporter": "python",
   "pygments_lexer": "ipython3",
   "version": "3.8.8"
  }
 },
 "nbformat": 4,
 "nbformat_minor": 5
}
